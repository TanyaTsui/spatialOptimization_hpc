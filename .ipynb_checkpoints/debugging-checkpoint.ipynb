{
 "cells": [
  {
   "cell_type": "code",
   "execution_count": 1,
   "id": "ebc82ff9-f3a4-4d38-a1ea-14f35e49c264",
   "metadata": {},
   "outputs": [],
   "source": [
    "import pandas as pd\n",
    "import geopandas as gpd\n",
    "import matplotlib.pyplot as plt\n",
    "import numpy as np\n",
    "import shapely\n",
    "import plotly.express as px\n",
    "from datetime import datetime\n",
    "import math\n",
    "\n",
    "pd.options.mode.chained_assignment = None  # default='warn'"
   ]
  },
  {
   "cell_type": "code",
   "execution_count": 15,
   "id": "603d5092-8a61-4a88-94e9-31b53a3cb9f0",
   "metadata": {},
   "outputs": [
    {
     "data": {
      "application/vnd.plotly.v1+json": {
       "config": {
        "plotlyServerURL": "https://plot.ly"
       },
       "data": [
        {
         "hovertemplate": "type=ssaa_new<br>nHubs=%{x}<br>resEnergy=%{y}<extra></extra>",
         "legendgroup": "ssaa_new",
         "marker": {
          "color": "#636efa",
          "symbol": "circle"
         },
         "mode": "markers",
         "name": "ssaa_new",
         "orientation": "v",
         "showlegend": true,
         "type": "scatter",
         "x": [
          2,
          3,
          4,
          5,
          6,
          7,
          8,
          9,
          10,
          11,
          12,
          13,
          14,
          15,
          16,
          17,
          18,
          19,
          20,
          21,
          22,
          23,
          24,
          25,
          26,
          28,
          29,
          31,
          32,
          34,
          36,
          39,
          42,
          45,
          48,
          51,
          53,
          56,
          59,
          62,
          107,
          119,
          122,
          123,
          124,
          125,
          127,
          128,
          129,
          130,
          131,
          132,
          133,
          134,
          135
         ],
         "xaxis": "x",
         "y": [
          7.97123335846976,
          7.51802813690662,
          7.19732296868844,
          7.05164385737738,
          6.93569404463116,
          6.86294184431324,
          6.73535151174879,
          6.63216419093763,
          6.58206191739031,
          6.53998136503518,
          6.48399849452973,
          6.43940570114224,
          6.4080691794768,
          6.38427809824521,
          6.3666650092323,
          6.346436961079,
          6.34142513388341,
          6.32986264910939,
          6.30746970262631,
          6.30124219345584,
          6.29928138746189,
          6.29538874872357,
          6.29902623678755,
          6.29446704698832,
          6.29158840209651,
          6.30362924763122,
          6.29440729022313,
          6.29222652881244,
          6.30362924763122,
          6.2915721063974,
          6.29449796947796,
          6.30249350175361,
          6.29270776073807,
          6.29767190574796,
          6.29443441066505,
          6.29339981141467,
          6.29155092044679,
          6.29155092044679,
          6.29962252148825,
          6.29563364431875,
          10.3428420466095,
          10.5894782572926,
          10.7997323309827,
          11.4125309177408,
          10.9469086299454,
          10.9903113422843,
          11.5038647537346,
          11.2155465700287,
          11.2951894922321,
          11.4329229808576,
          11.4383655050106,
          11.5617958199223,
          11.5839191209004,
          11.8815198643977,
          11.9560558415849
         ],
         "yaxis": "y"
        },
        {
         "hovertemplate": "type=ssaa_old<br>nHubs=%{x}<br>resEnergy=%{y}<extra></extra>",
         "legendgroup": "ssaa_old",
         "marker": {
          "color": "#EF553B",
          "symbol": "circle"
         },
         "mode": "markers",
         "name": "ssaa_old",
         "orientation": "v",
         "showlegend": true,
         "type": "scatter",
         "x": [
          2,
          3,
          4,
          5,
          6,
          7,
          8,
          9,
          10,
          11,
          12,
          13,
          14,
          15,
          16,
          17,
          18,
          19,
          20,
          21,
          22,
          23,
          24,
          25,
          26,
          27,
          28,
          29,
          30,
          31,
          32,
          33,
          34,
          35,
          36,
          37,
          38,
          39,
          40,
          41,
          42,
          43,
          44,
          45,
          46,
          47,
          48,
          49,
          50,
          51,
          52,
          53,
          54,
          55,
          56,
          57,
          58,
          59,
          60,
          61,
          62,
          63,
          64,
          65,
          66,
          67,
          68,
          69,
          70,
          71,
          72,
          73,
          74,
          75,
          76,
          77,
          78,
          79,
          80,
          81,
          82,
          83,
          84,
          85,
          86,
          87,
          88,
          89,
          90,
          91,
          92,
          93,
          94,
          95,
          96,
          97,
          98,
          99,
          100,
          101,
          102,
          103,
          104,
          105,
          106,
          107,
          108,
          109,
          110,
          111,
          112,
          113,
          114,
          115,
          116,
          117,
          118,
          119,
          120,
          121,
          122,
          123,
          124,
          125,
          126,
          127,
          128,
          129,
          130,
          131,
          133
         ],
         "xaxis": "x",
         "y": [
          7.94088226610251,
          7.42040438226154,
          7.17386881655415,
          7.11290151630814,
          6.9401427592882,
          6.8359171211146,
          6.76363881589377,
          6.66252768737113,
          6.58206191739031,
          6.54374119200457,
          6.50084145558212,
          6.43940570114224,
          6.41284433270476,
          6.38389888182472,
          7.15702902766827,
          6.33259588072856,
          6.31308991521301,
          6.29938527295793,
          6.29035396973701,
          6.27394979989054,
          6.2537486805828,
          6.24867240841396,
          6.24200127497336,
          6.23433362151265,
          6.22400998289613,
          6.65735201538311,
          6.2094814225828,
          6.203435503029,
          7.00766921627262,
          6.19319378656596,
          6.18926365279958,
          6.18827017925866,
          6.17831314122926,
          6.17757176380821,
          6.17288529681327,
          6.16839204498823,
          6.16460390693461,
          6.16148674846995,
          6.16057745798444,
          6.16510472006234,
          6.15515270304916,
          6.15270066627805,
          6.15024074469224,
          6.14869631830522,
          6.14649736755296,
          6.14486158010575,
          6.14306092132536,
          6.14124427202966,
          6.14653198247998,
          6.13733390194268,
          6.13650560824803,
          6.13554756345902,
          6.13395307757477,
          6.13217939658212,
          6.1320246211178,
          6.1304534192401,
          6.12823276505113,
          6.12730943742358,
          6.12673130986809,
          6.12549435091736,
          6.12492610370054,
          6.12334322472901,
          6.12203824311237,
          6.12149058340399,
          6.12006219037297,
          6.11956800816783,
          6.11967317912675,
          6.11835699371175,
          6.12270439782407,
          6.11658491359154,
          6.1204795724392,
          6.11602277352307,
          6.11497764989958,
          6.11432191268725,
          6.11542648959633,
          6.11379084274385,
          6.11353694417684,
          6.1131892702503,
          6.11284704994199,
          6.11268601247189,
          6.11239374121657,
          6.1123770698467,
          6.1121570855726,
          6.11193603243155,
          6.11183137610409,
          6.11164401389453,
          6.11293353488238,
          6.11221329306574,
          6.11132812760826,
          6.11156384667017,
          6.1112221360235,
          6.11106367496523,
          6.11095885662479,
          6.11135067405731,
          6.11138946133925,
          6.11102879539972,
          6.11087282644553,
          6.11132018129449,
          6.11111369958445,
          6.11077856373639,
          6.11099000217548,
          6.11095584639378,
          6.1107259904004,
          6.11078778265052,
          6.11084359054897,
          6.11082278021562,
          6.1107390760034,
          6.11071954710351,
          6.11071954710351,
          6.11457476489047,
          6.16123768171854,
          6.11101468743278,
          6.11081896318539,
          6.1107157300786,
          6.11456151872151,
          6.11082278021562,
          6.11486248686705,
          6.11081896318539,
          6.1107157300786,
          6.11091140019495,
          6.11101468743278,
          6.1107157300786,
          6.1107157300786,
          6.1107157300786,
          6.11071954710351,
          6.11456151872151,
          6.1107157300786,
          6.1107157300786,
          6.1107157300786,
          6.11101468743278,
          6.11101468743278
         ],
         "yaxis": "y"
        }
       ],
       "layout": {
        "autosize": true,
        "legend": {
         "title": {
          "text": "type"
         },
         "tracegroupgap": 0
        },
        "margin": {
         "t": 60
        },
        "template": {
         "data": {
          "bar": [
           {
            "error_x": {
             "color": "#2a3f5f"
            },
            "error_y": {
             "color": "#2a3f5f"
            },
            "marker": {
             "line": {
              "color": "#E5ECF6",
              "width": 0.5
             },
             "pattern": {
              "fillmode": "overlay",
              "size": 10,
              "solidity": 0.2
             }
            },
            "type": "bar"
           }
          ],
          "barpolar": [
           {
            "marker": {
             "line": {
              "color": "#E5ECF6",
              "width": 0.5
             },
             "pattern": {
              "fillmode": "overlay",
              "size": 10,
              "solidity": 0.2
             }
            },
            "type": "barpolar"
           }
          ],
          "carpet": [
           {
            "aaxis": {
             "endlinecolor": "#2a3f5f",
             "gridcolor": "white",
             "linecolor": "white",
             "minorgridcolor": "white",
             "startlinecolor": "#2a3f5f"
            },
            "baxis": {
             "endlinecolor": "#2a3f5f",
             "gridcolor": "white",
             "linecolor": "white",
             "minorgridcolor": "white",
             "startlinecolor": "#2a3f5f"
            },
            "type": "carpet"
           }
          ],
          "choropleth": [
           {
            "colorbar": {
             "outlinewidth": 0,
             "ticks": ""
            },
            "type": "choropleth"
           }
          ],
          "contour": [
           {
            "colorbar": {
             "outlinewidth": 0,
             "ticks": ""
            },
            "colorscale": [
             [
              0,
              "#0d0887"
             ],
             [
              0.1111111111111111,
              "#46039f"
             ],
             [
              0.2222222222222222,
              "#7201a8"
             ],
             [
              0.3333333333333333,
              "#9c179e"
             ],
             [
              0.4444444444444444,
              "#bd3786"
             ],
             [
              0.5555555555555556,
              "#d8576b"
             ],
             [
              0.6666666666666666,
              "#ed7953"
             ],
             [
              0.7777777777777778,
              "#fb9f3a"
             ],
             [
              0.8888888888888888,
              "#fdca26"
             ],
             [
              1,
              "#f0f921"
             ]
            ],
            "type": "contour"
           }
          ],
          "contourcarpet": [
           {
            "colorbar": {
             "outlinewidth": 0,
             "ticks": ""
            },
            "type": "contourcarpet"
           }
          ],
          "heatmap": [
           {
            "colorbar": {
             "outlinewidth": 0,
             "ticks": ""
            },
            "colorscale": [
             [
              0,
              "#0d0887"
             ],
             [
              0.1111111111111111,
              "#46039f"
             ],
             [
              0.2222222222222222,
              "#7201a8"
             ],
             [
              0.3333333333333333,
              "#9c179e"
             ],
             [
              0.4444444444444444,
              "#bd3786"
             ],
             [
              0.5555555555555556,
              "#d8576b"
             ],
             [
              0.6666666666666666,
              "#ed7953"
             ],
             [
              0.7777777777777778,
              "#fb9f3a"
             ],
             [
              0.8888888888888888,
              "#fdca26"
             ],
             [
              1,
              "#f0f921"
             ]
            ],
            "type": "heatmap"
           }
          ],
          "heatmapgl": [
           {
            "colorbar": {
             "outlinewidth": 0,
             "ticks": ""
            },
            "colorscale": [
             [
              0,
              "#0d0887"
             ],
             [
              0.1111111111111111,
              "#46039f"
             ],
             [
              0.2222222222222222,
              "#7201a8"
             ],
             [
              0.3333333333333333,
              "#9c179e"
             ],
             [
              0.4444444444444444,
              "#bd3786"
             ],
             [
              0.5555555555555556,
              "#d8576b"
             ],
             [
              0.6666666666666666,
              "#ed7953"
             ],
             [
              0.7777777777777778,
              "#fb9f3a"
             ],
             [
              0.8888888888888888,
              "#fdca26"
             ],
             [
              1,
              "#f0f921"
             ]
            ],
            "type": "heatmapgl"
           }
          ],
          "histogram": [
           {
            "marker": {
             "pattern": {
              "fillmode": "overlay",
              "size": 10,
              "solidity": 0.2
             }
            },
            "type": "histogram"
           }
          ],
          "histogram2d": [
           {
            "colorbar": {
             "outlinewidth": 0,
             "ticks": ""
            },
            "colorscale": [
             [
              0,
              "#0d0887"
             ],
             [
              0.1111111111111111,
              "#46039f"
             ],
             [
              0.2222222222222222,
              "#7201a8"
             ],
             [
              0.3333333333333333,
              "#9c179e"
             ],
             [
              0.4444444444444444,
              "#bd3786"
             ],
             [
              0.5555555555555556,
              "#d8576b"
             ],
             [
              0.6666666666666666,
              "#ed7953"
             ],
             [
              0.7777777777777778,
              "#fb9f3a"
             ],
             [
              0.8888888888888888,
              "#fdca26"
             ],
             [
              1,
              "#f0f921"
             ]
            ],
            "type": "histogram2d"
           }
          ],
          "histogram2dcontour": [
           {
            "colorbar": {
             "outlinewidth": 0,
             "ticks": ""
            },
            "colorscale": [
             [
              0,
              "#0d0887"
             ],
             [
              0.1111111111111111,
              "#46039f"
             ],
             [
              0.2222222222222222,
              "#7201a8"
             ],
             [
              0.3333333333333333,
              "#9c179e"
             ],
             [
              0.4444444444444444,
              "#bd3786"
             ],
             [
              0.5555555555555556,
              "#d8576b"
             ],
             [
              0.6666666666666666,
              "#ed7953"
             ],
             [
              0.7777777777777778,
              "#fb9f3a"
             ],
             [
              0.8888888888888888,
              "#fdca26"
             ],
             [
              1,
              "#f0f921"
             ]
            ],
            "type": "histogram2dcontour"
           }
          ],
          "mesh3d": [
           {
            "colorbar": {
             "outlinewidth": 0,
             "ticks": ""
            },
            "type": "mesh3d"
           }
          ],
          "parcoords": [
           {
            "line": {
             "colorbar": {
              "outlinewidth": 0,
              "ticks": ""
             }
            },
            "type": "parcoords"
           }
          ],
          "pie": [
           {
            "automargin": true,
            "type": "pie"
           }
          ],
          "scatter": [
           {
            "fillpattern": {
             "fillmode": "overlay",
             "size": 10,
             "solidity": 0.2
            },
            "type": "scatter"
           }
          ],
          "scatter3d": [
           {
            "line": {
             "colorbar": {
              "outlinewidth": 0,
              "ticks": ""
             }
            },
            "marker": {
             "colorbar": {
              "outlinewidth": 0,
              "ticks": ""
             }
            },
            "type": "scatter3d"
           }
          ],
          "scattercarpet": [
           {
            "marker": {
             "colorbar": {
              "outlinewidth": 0,
              "ticks": ""
             }
            },
            "type": "scattercarpet"
           }
          ],
          "scattergeo": [
           {
            "marker": {
             "colorbar": {
              "outlinewidth": 0,
              "ticks": ""
             }
            },
            "type": "scattergeo"
           }
          ],
          "scattergl": [
           {
            "marker": {
             "colorbar": {
              "outlinewidth": 0,
              "ticks": ""
             }
            },
            "type": "scattergl"
           }
          ],
          "scattermapbox": [
           {
            "marker": {
             "colorbar": {
              "outlinewidth": 0,
              "ticks": ""
             }
            },
            "type": "scattermapbox"
           }
          ],
          "scatterpolar": [
           {
            "marker": {
             "colorbar": {
              "outlinewidth": 0,
              "ticks": ""
             }
            },
            "type": "scatterpolar"
           }
          ],
          "scatterpolargl": [
           {
            "marker": {
             "colorbar": {
              "outlinewidth": 0,
              "ticks": ""
             }
            },
            "type": "scatterpolargl"
           }
          ],
          "scatterternary": [
           {
            "marker": {
             "colorbar": {
              "outlinewidth": 0,
              "ticks": ""
             }
            },
            "type": "scatterternary"
           }
          ],
          "surface": [
           {
            "colorbar": {
             "outlinewidth": 0,
             "ticks": ""
            },
            "colorscale": [
             [
              0,
              "#0d0887"
             ],
             [
              0.1111111111111111,
              "#46039f"
             ],
             [
              0.2222222222222222,
              "#7201a8"
             ],
             [
              0.3333333333333333,
              "#9c179e"
             ],
             [
              0.4444444444444444,
              "#bd3786"
             ],
             [
              0.5555555555555556,
              "#d8576b"
             ],
             [
              0.6666666666666666,
              "#ed7953"
             ],
             [
              0.7777777777777778,
              "#fb9f3a"
             ],
             [
              0.8888888888888888,
              "#fdca26"
             ],
             [
              1,
              "#f0f921"
             ]
            ],
            "type": "surface"
           }
          ],
          "table": [
           {
            "cells": {
             "fill": {
              "color": "#EBF0F8"
             },
             "line": {
              "color": "white"
             }
            },
            "header": {
             "fill": {
              "color": "#C8D4E3"
             },
             "line": {
              "color": "white"
             }
            },
            "type": "table"
           }
          ]
         },
         "layout": {
          "annotationdefaults": {
           "arrowcolor": "#2a3f5f",
           "arrowhead": 0,
           "arrowwidth": 1
          },
          "autotypenumbers": "strict",
          "coloraxis": {
           "colorbar": {
            "outlinewidth": 0,
            "ticks": ""
           }
          },
          "colorscale": {
           "diverging": [
            [
             0,
             "#8e0152"
            ],
            [
             0.1,
             "#c51b7d"
            ],
            [
             0.2,
             "#de77ae"
            ],
            [
             0.3,
             "#f1b6da"
            ],
            [
             0.4,
             "#fde0ef"
            ],
            [
             0.5,
             "#f7f7f7"
            ],
            [
             0.6,
             "#e6f5d0"
            ],
            [
             0.7,
             "#b8e186"
            ],
            [
             0.8,
             "#7fbc41"
            ],
            [
             0.9,
             "#4d9221"
            ],
            [
             1,
             "#276419"
            ]
           ],
           "sequential": [
            [
             0,
             "#0d0887"
            ],
            [
             0.1111111111111111,
             "#46039f"
            ],
            [
             0.2222222222222222,
             "#7201a8"
            ],
            [
             0.3333333333333333,
             "#9c179e"
            ],
            [
             0.4444444444444444,
             "#bd3786"
            ],
            [
             0.5555555555555556,
             "#d8576b"
            ],
            [
             0.6666666666666666,
             "#ed7953"
            ],
            [
             0.7777777777777778,
             "#fb9f3a"
            ],
            [
             0.8888888888888888,
             "#fdca26"
            ],
            [
             1,
             "#f0f921"
            ]
           ],
           "sequentialminus": [
            [
             0,
             "#0d0887"
            ],
            [
             0.1111111111111111,
             "#46039f"
            ],
            [
             0.2222222222222222,
             "#7201a8"
            ],
            [
             0.3333333333333333,
             "#9c179e"
            ],
            [
             0.4444444444444444,
             "#bd3786"
            ],
            [
             0.5555555555555556,
             "#d8576b"
            ],
            [
             0.6666666666666666,
             "#ed7953"
            ],
            [
             0.7777777777777778,
             "#fb9f3a"
            ],
            [
             0.8888888888888888,
             "#fdca26"
            ],
            [
             1,
             "#f0f921"
            ]
           ]
          },
          "colorway": [
           "#636efa",
           "#EF553B",
           "#00cc96",
           "#ab63fa",
           "#FFA15A",
           "#19d3f3",
           "#FF6692",
           "#B6E880",
           "#FF97FF",
           "#FECB52"
          ],
          "font": {
           "color": "#2a3f5f"
          },
          "geo": {
           "bgcolor": "white",
           "lakecolor": "white",
           "landcolor": "#E5ECF6",
           "showlakes": true,
           "showland": true,
           "subunitcolor": "white"
          },
          "hoverlabel": {
           "align": "left"
          },
          "hovermode": "closest",
          "mapbox": {
           "style": "light"
          },
          "paper_bgcolor": "white",
          "plot_bgcolor": "#E5ECF6",
          "polar": {
           "angularaxis": {
            "gridcolor": "white",
            "linecolor": "white",
            "ticks": ""
           },
           "bgcolor": "#E5ECF6",
           "radialaxis": {
            "gridcolor": "white",
            "linecolor": "white",
            "ticks": ""
           }
          },
          "scene": {
           "xaxis": {
            "backgroundcolor": "#E5ECF6",
            "gridcolor": "white",
            "gridwidth": 2,
            "linecolor": "white",
            "showbackground": true,
            "ticks": "",
            "zerolinecolor": "white"
           },
           "yaxis": {
            "backgroundcolor": "#E5ECF6",
            "gridcolor": "white",
            "gridwidth": 2,
            "linecolor": "white",
            "showbackground": true,
            "ticks": "",
            "zerolinecolor": "white"
           },
           "zaxis": {
            "backgroundcolor": "#E5ECF6",
            "gridcolor": "white",
            "gridwidth": 2,
            "linecolor": "white",
            "showbackground": true,
            "ticks": "",
            "zerolinecolor": "white"
           }
          },
          "shapedefaults": {
           "line": {
            "color": "#2a3f5f"
           }
          },
          "ternary": {
           "aaxis": {
            "gridcolor": "white",
            "linecolor": "white",
            "ticks": ""
           },
           "baxis": {
            "gridcolor": "white",
            "linecolor": "white",
            "ticks": ""
           },
           "bgcolor": "#E5ECF6",
           "caxis": {
            "gridcolor": "white",
            "linecolor": "white",
            "ticks": ""
           }
          },
          "title": {
           "x": 0.05
          },
          "xaxis": {
           "automargin": true,
           "gridcolor": "white",
           "linecolor": "white",
           "ticks": "",
           "title": {
            "standoff": 15
           },
           "zerolinecolor": "white",
           "zerolinewidth": 2
          },
          "yaxis": {
           "automargin": true,
           "gridcolor": "white",
           "linecolor": "white",
           "ticks": "",
           "title": {
            "standoff": 15
           },
           "zerolinecolor": "white",
           "zerolinewidth": 2
          }
         }
        },
        "xaxis": {
         "anchor": "y",
         "autorange": true,
         "domain": [
          0,
          1
         ],
         "range": [
          -6.067266495287061,
          143.06726649528707
         ],
         "title": {
          "text": "nHubs"
         },
         "type": "linear"
        },
        "yaxis": {
         "anchor": "x",
         "autorange": true,
         "domain": [
          0,
          1
         ],
         "range": [
          5.658123779187692,
          12.408647792475808
         ],
         "title": {
          "text": "resEnergy"
         },
         "type": "linear"
        }
       }
      },
      "image/png": "[encoded data removed]",
      "text/html": [
       "<div>                            <div id=\"f34bfdcf-af06-4700-9a1a-64808f4ee090\" class=\"plotly-graph-div\" style=\"height:525px; width:100%;\"></div>            <script type=\"text/javascript\">                require([\"plotly\"], function(Plotly) {                    window.PLOTLYENV=window.PLOTLYENV || {};                                    if (document.getElementById(\"f34bfdcf-af06-4700-9a1a-64808f4ee090\")) {                    Plotly.newPlot(                        \"f34bfdcf-af06-4700-9a1a-64808f4ee090\",                        [{\"hovertemplate\":\"type=ssaa_new<br>nHubs=%{x}<br>resEnergy=%{y}<extra></extra>\",\"legendgroup\":\"ssaa_new\",\"marker\":{\"color\":\"#636efa\",\"symbol\":\"circle\"},\"mode\":\"markers\",\"name\":\"ssaa_new\",\"orientation\":\"v\",\"showlegend\":true,\"x\":[2,3,4,5,6,7,8,9,10,11,12,13,14,15,16,17,18,19,20,21,22,23,24,25,26,28,29,31,32,34,36,39,42,45,48,51,53,56,59,62,107,119,122,123,124,125,127,128,129,130,131,132,133,134,135],\"xaxis\":\"x\",\"y\":[7.97123335846976,7.51802813690662,7.19732296868844,7.05164385737738,6.93569404463116,6.86294184431324,6.73535151174879,6.63216419093763,6.58206191739031,6.53998136503518,6.48399849452973,6.43940570114224,6.4080691794768,6.38427809824521,6.3666650092323,6.346436961079,6.34142513388341,6.32986264910939,6.30746970262631,6.30124219345584,6.29928138746189,6.29538874872357,6.29902623678755,6.29446704698832,6.29158840209651,6.30362924763122,6.29440729022313,6.29222652881244,6.30362924763122,6.2915721063974,6.29449796947796,6.30249350175361,6.29270776073807,6.29767190574796,6.29443441066505,6.29339981141467,6.29155092044679,6.29155092044679,6.29962252148825,6.29563364431875,10.3428420466095,10.5894782572926,10.7997323309827,11.4125309177408,10.9469086299454,10.9903113422843,11.5038647537346,11.2155465700287,11.2951894922321,11.4329229808576,11.4383655050106,11.5617958199223,11.5839191209004,11.8815198643977,11.9560558415849],\"yaxis\":\"y\",\"type\":\"scatter\"},{\"hovertemplate\":\"type=ssaa_old<br>nHubs=%{x}<br>resEnergy=%{y}<extra></extra>\",\"legendgroup\":\"ssaa_old\",\"marker\":{\"color\":\"#EF553B\",\"symbol\":\"circle\"},\"mode\":\"markers\",\"name\":\"ssaa_old\",\"orientation\":\"v\",\"showlegend\":true,\"x\":[2,3,4,5,6,7,8,9,10,11,12,13,14,15,16,17,18,19,20,21,22,23,24,25,26,27,28,29,30,31,32,33,34,35,36,37,38,39,40,41,42,43,44,45,46,47,48,49,50,51,52,53,54,55,56,57,58,59,60,61,62,63,64,65,66,67,68,69,70,71,72,73,74,75,76,77,78,79,80,81,82,83,84,85,86,87,88,89,90,91,92,93,94,95,96,97,98,99,100,101,102,103,104,105,106,107,108,109,110,111,112,113,114,115,116,117,118,119,120,121,122,123,124,125,126,127,128,129,130,131,133],\"xaxis\":\"x\",\"y\":[7.94088226610251,7.42040438226154,7.17386881655415,7.11290151630814,6.9401427592882,6.8359171211146,6.76363881589377,6.66252768737113,6.58206191739031,6.54374119200457,6.50084145558212,6.43940570114224,6.41284433270476,6.38389888182472,7.15702902766827,6.33259588072856,6.31308991521301,6.29938527295793,6.29035396973701,6.27394979989054,6.2537486805828,6.24867240841396,6.24200127497336,6.23433362151265,6.22400998289613,6.65735201538311,6.2094814225828,6.203435503029,7.00766921627262,6.19319378656596,6.18926365279958,6.18827017925866,6.17831314122926,6.17757176380821,6.17288529681327,6.16839204498823,6.16460390693461,6.16148674846995,6.16057745798444,6.16510472006234,6.15515270304916,6.15270066627805,6.15024074469224,6.14869631830522,6.14649736755296,6.14486158010575,6.14306092132536,6.14124427202966,6.14653198247998,6.13733390194268,6.13650560824803,6.13554756345902,6.13395307757477,6.13217939658212,6.1320246211178,6.1304534192401,6.12823276505113,6.12730943742358,6.12673130986809,6.12549435091736,6.12492610370054,6.12334322472901,6.12203824311237,6.12149058340399,6.12006219037297,6.11956800816783,6.11967317912675,6.11835699371175,6.12270439782407,6.11658491359154,6.1204795724392,6.11602277352307,6.11497764989958,6.11432191268725,6.11542648959633,6.11379084274385,6.11353694417684,6.1131892702503,6.11284704994199,6.11268601247189,6.11239374121657,6.1123770698467,6.1121570855726,6.11193603243155,6.11183137610409,6.11164401389453,6.11293353488238,6.11221329306574,6.11132812760826,6.11156384667017,6.1112221360235,6.11106367496523,6.11095885662479,6.11135067405731,6.11138946133925,6.11102879539972,6.11087282644553,6.11132018129449,6.11111369958445,6.11077856373639,6.11099000217548,6.11095584639378,6.1107259904004,6.11078778265052,6.11084359054897,6.11082278021562,6.1107390760034,6.11071954710351,6.11071954710351,6.11457476489047,6.16123768171854,6.11101468743278,6.11081896318539,6.1107157300786,6.11456151872151,6.11082278021562,6.11486248686705,6.11081896318539,6.1107157300786,6.11091140019495,6.11101468743278,6.1107157300786,6.1107157300786,6.1107157300786,6.11071954710351,6.11456151872151,6.1107157300786,6.1107157300786,6.1107157300786,6.11101468743278,6.11101468743278],\"yaxis\":\"y\",\"type\":\"scatter\"}],                        {\"template\":{\"data\":{\"histogram2dcontour\":[{\"type\":\"histogram2dcontour\",\"colorbar\":{\"outlinewidth\":0,\"ticks\":\"\"},\"colorscale\":[[0.0,\"#0d0887\"],[0.1111111111111111,\"#46039f\"],[0.2222222222222222,\"#7201a8\"],[0.3333333333333333,\"#9c179e\"],[0.4444444444444444,\"#bd3786\"],[0.5555555555555556,\"#d8576b\"],[0.6666666666666666,\"#ed7953\"],[0.7777777777777778,\"#fb9f3a\"],[0.8888888888888888,\"#fdca26\"],[1.0,\"#f0f921\"]]}],\"choropleth\":[{\"type\":\"choropleth\",\"colorbar\":{\"outlinewidth\":0,\"ticks\":\"\"}}],\"histogram2d\":[{\"type\":\"histogram2d\",\"colorbar\":{\"outlinewidth\":0,\"ticks\":\"\"},\"colorscale\":[[0.0,\"#0d0887\"],[0.1111111111111111,\"#46039f\"],[0.2222222222222222,\"#7201a8\"],[0.3333333333333333,\"#9c179e\"],[0.4444444444444444,\"#bd3786\"],[0.5555555555555556,\"#d8576b\"],[0.6666666666666666,\"#ed7953\"],[0.7777777777777778,\"#fb9f3a\"],[0.8888888888888888,\"#fdca26\"],[1.0,\"#f0f921\"]]}],\"heatmap\":[{\"type\":\"heatmap\",\"colorbar\":{\"outlinewidth\":0,\"ticks\":\"\"},\"colorscale\":[[0.0,\"#0d0887\"],[0.1111111111111111,\"#46039f\"],[0.2222222222222222,\"#7201a8\"],[0.3333333333333333,\"#9c179e\"],[0.4444444444444444,\"#bd3786\"],[0.5555555555555556,\"#d8576b\"],[0.6666666666666666,\"#ed7953\"],[0.7777777777777778,\"#fb9f3a\"],[0.8888888888888888,\"#fdca26\"],[1.0,\"#f0f921\"]]}],\"heatmapgl\":[{\"type\":\"heatmapgl\",\"colorbar\":{\"outlinewidth\":0,\"ticks\":\"\"},\"colorscale\":[[0.0,\"#0d0887\"],[0.1111111111111111,\"#46039f\"],[0.2222222222222222,\"#7201a8\"],[0.3333333333333333,\"#9c179e\"],[0.4444444444444444,\"#bd3786\"],[0.5555555555555556,\"#d8576b\"],[0.6666666666666666,\"#ed7953\"],[0.7777777777777778,\"#fb9f3a\"],[0.8888888888888888,\"#fdca26\"],[1.0,\"#f0f921\"]]}],\"contourcarpet\":[{\"type\":\"contourcarpet\",\"colorbar\":{\"outlinewidth\":0,\"ticks\":\"\"}}],\"contour\":[{\"type\":\"contour\",\"colorbar\":{\"outlinewidth\":0,\"ticks\":\"\"},\"colorscale\":[[0.0,\"#0d0887\"],[0.1111111111111111,\"#46039f\"],[0.2222222222222222,\"#7201a8\"],[0.3333333333333333,\"#9c179e\"],[0.4444444444444444,\"#bd3786\"],[0.5555555555555556,\"#d8576b\"],[0.6666666666666666,\"#ed7953\"],[0.7777777777777778,\"#fb9f3a\"],[0.8888888888888888,\"#fdca26\"],[1.0,\"#f0f921\"]]}],\"surface\":[{\"type\":\"surface\",\"colorbar\":{\"outlinewidth\":0,\"ticks\":\"\"},\"colorscale\":[[0.0,\"#0d0887\"],[0.1111111111111111,\"#46039f\"],[0.2222222222222222,\"#7201a8\"],[0.3333333333333333,\"#9c179e\"],[0.4444444444444444,\"#bd3786\"],[0.5555555555555556,\"#d8576b\"],[0.6666666666666666,\"#ed7953\"],[0.7777777777777778,\"#fb9f3a\"],[0.8888888888888888,\"#fdca26\"],[1.0,\"#f0f921\"]]}],\"mesh3d\":[{\"type\":\"mesh3d\",\"colorbar\":{\"outlinewidth\":0,\"ticks\":\"\"}}],\"scatter\":[{\"fillpattern\":{\"fillmode\":\"overlay\",\"size\":10,\"solidity\":0.2},\"type\":\"scatter\"}],\"parcoords\":[{\"type\":\"parcoords\",\"line\":{\"colorbar\":{\"outlinewidth\":0,\"ticks\":\"\"}}}],\"scatterpolargl\":[{\"type\":\"scatterpolargl\",\"marker\":{\"colorbar\":{\"outlinewidth\":0,\"ticks\":\"\"}}}],\"bar\":[{\"error_x\":{\"color\":\"#2a3f5f\"},\"error_y\":{\"color\":\"#2a3f5f\"},\"marker\":{\"line\":{\"color\":\"#E5ECF6\",\"width\":0.5},\"pattern\":{\"fillmode\":\"overlay\",\"size\":10,\"solidity\":0.2}},\"type\":\"bar\"}],\"scattergeo\":[{\"type\":\"scattergeo\",\"marker\":{\"colorbar\":{\"outlinewidth\":0,\"ticks\":\"\"}}}],\"scatterpolar\":[{\"type\":\"scatterpolar\",\"marker\":{\"colorbar\":{\"outlinewidth\":0,\"ticks\":\"\"}}}],\"histogram\":[{\"marker\":{\"pattern\":{\"fillmode\":\"overlay\",\"size\":10,\"solidity\":0.2}},\"type\":\"histogram\"}],\"scattergl\":[{\"type\":\"scattergl\",\"marker\":{\"colorbar\":{\"outlinewidth\":0,\"ticks\":\"\"}}}],\"scatter3d\":[{\"type\":\"scatter3d\",\"line\":{\"colorbar\":{\"outlinewidth\":0,\"ticks\":\"\"}},\"marker\":{\"colorbar\":{\"outlinewidth\":0,\"ticks\":\"\"}}}],\"scattermapbox\":[{\"type\":\"scattermapbox\",\"marker\":{\"colorbar\":{\"outlinewidth\":0,\"ticks\":\"\"}}}],\"scatterternary\":[{\"type\":\"scatterternary\",\"marker\":{\"colorbar\":{\"outlinewidth\":0,\"ticks\":\"\"}}}],\"scattercarpet\":[{\"type\":\"scattercarpet\",\"marker\":{\"colorbar\":{\"outlinewidth\":0,\"ticks\":\"\"}}}],\"carpet\":[{\"aaxis\":{\"endlinecolor\":\"#2a3f5f\",\"gridcolor\":\"white\",\"linecolor\":\"white\",\"minorgridcolor\":\"white\",\"startlinecolor\":\"#2a3f5f\"},\"baxis\":{\"endlinecolor\":\"#2a3f5f\",\"gridcolor\":\"white\",\"linecolor\":\"white\",\"minorgridcolor\":\"white\",\"startlinecolor\":\"#2a3f5f\"},\"type\":\"carpet\"}],\"table\":[{\"cells\":{\"fill\":{\"color\":\"#EBF0F8\"},\"line\":{\"color\":\"white\"}},\"header\":{\"fill\":{\"color\":\"#C8D4E3\"},\"line\":{\"color\":\"white\"}},\"type\":\"table\"}],\"barpolar\":[{\"marker\":{\"line\":{\"color\":\"#E5ECF6\",\"width\":0.5},\"pattern\":{\"fillmode\":\"overlay\",\"size\":10,\"solidity\":0.2}},\"type\":\"barpolar\"}],\"pie\":[{\"automargin\":true,\"type\":\"pie\"}]},\"layout\":{\"autotypenumbers\":\"strict\",\"colorway\":[\"#636efa\",\"#EF553B\",\"#00cc96\",\"#ab63fa\",\"#FFA15A\",\"#19d3f3\",\"#FF6692\",\"#B6E880\",\"#FF97FF\",\"#FECB52\"],\"font\":{\"color\":\"#2a3f5f\"},\"hovermode\":\"closest\",\"hoverlabel\":{\"align\":\"left\"},\"paper_bgcolor\":\"white\",\"plot_bgcolor\":\"#E5ECF6\",\"polar\":{\"bgcolor\":\"#E5ECF6\",\"angularaxis\":{\"gridcolor\":\"white\",\"linecolor\":\"white\",\"ticks\":\"\"},\"radialaxis\":{\"gridcolor\":\"white\",\"linecolor\":\"white\",\"ticks\":\"\"}},\"ternary\":{\"bgcolor\":\"#E5ECF6\",\"aaxis\":{\"gridcolor\":\"white\",\"linecolor\":\"white\",\"ticks\":\"\"},\"baxis\":{\"gridcolor\":\"white\",\"linecolor\":\"white\",\"ticks\":\"\"},\"caxis\":{\"gridcolor\":\"white\",\"linecolor\":\"white\",\"ticks\":\"\"}},\"coloraxis\":{\"colorbar\":{\"outlinewidth\":0,\"ticks\":\"\"}},\"colorscale\":{\"sequential\":[[0.0,\"#0d0887\"],[0.1111111111111111,\"#46039f\"],[0.2222222222222222,\"#7201a8\"],[0.3333333333333333,\"#9c179e\"],[0.4444444444444444,\"#bd3786\"],[0.5555555555555556,\"#d8576b\"],[0.6666666666666666,\"#ed7953\"],[0.7777777777777778,\"#fb9f3a\"],[0.8888888888888888,\"#fdca26\"],[1.0,\"#f0f921\"]],\"sequentialminus\":[[0.0,\"#0d0887\"],[0.1111111111111111,\"#46039f\"],[0.2222222222222222,\"#7201a8\"],[0.3333333333333333,\"#9c179e\"],[0.4444444444444444,\"#bd3786\"],[0.5555555555555556,\"#d8576b\"],[0.6666666666666666,\"#ed7953\"],[0.7777777777777778,\"#fb9f3a\"],[0.8888888888888888,\"#fdca26\"],[1.0,\"#f0f921\"]],\"diverging\":[[0,\"#8e0152\"],[0.1,\"#c51b7d\"],[0.2,\"#de77ae\"],[0.3,\"#f1b6da\"],[0.4,\"#fde0ef\"],[0.5,\"#f7f7f7\"],[0.6,\"#e6f5d0\"],[0.7,\"#b8e186\"],[0.8,\"#7fbc41\"],[0.9,\"#4d9221\"],[1,\"#276419\"]]},\"xaxis\":{\"gridcolor\":\"white\",\"linecolor\":\"white\",\"ticks\":\"\",\"title\":{\"standoff\":15},\"zerolinecolor\":\"white\",\"automargin\":true,\"zerolinewidth\":2},\"yaxis\":{\"gridcolor\":\"white\",\"linecolor\":\"white\",\"ticks\":\"\",\"title\":{\"standoff\":15},\"zerolinecolor\":\"white\",\"automargin\":true,\"zerolinewidth\":2},\"scene\":{\"xaxis\":{\"backgroundcolor\":\"#E5ECF6\",\"gridcolor\":\"white\",\"linecolor\":\"white\",\"showbackground\":true,\"ticks\":\"\",\"zerolinecolor\":\"white\",\"gridwidth\":2},\"yaxis\":{\"backgroundcolor\":\"#E5ECF6\",\"gridcolor\":\"white\",\"linecolor\":\"white\",\"showbackground\":true,\"ticks\":\"\",\"zerolinecolor\":\"white\",\"gridwidth\":2},\"zaxis\":{\"backgroundcolor\":\"#E5ECF6\",\"gridcolor\":\"white\",\"linecolor\":\"white\",\"showbackground\":true,\"ticks\":\"\",\"zerolinecolor\":\"white\",\"gridwidth\":2}},\"shapedefaults\":{\"line\":{\"color\":\"#2a3f5f\"}},\"annotationdefaults\":{\"arrowcolor\":\"#2a3f5f\",\"arrowhead\":0,\"arrowwidth\":1},\"geo\":{\"bgcolor\":\"white\",\"landcolor\":\"#E5ECF6\",\"subunitcolor\":\"white\",\"showland\":true,\"showlakes\":true,\"lakecolor\":\"white\"},\"title\":{\"x\":0.05},\"mapbox\":{\"style\":\"light\"}}},\"xaxis\":{\"anchor\":\"y\",\"domain\":[0.0,1.0],\"title\":{\"text\":\"nHubs\"}},\"yaxis\":{\"anchor\":\"x\",\"domain\":[0.0,1.0],\"title\":{\"text\":\"resEnergy\"}},\"legend\":{\"title\":{\"text\":\"type\"},\"tracegroupgap\":0},\"margin\":{\"t\":60}},                        {\"responsive\": true}                    ).then(function(){\n",
       "                            \n",
       "var gd = document.getElementById('f34bfdcf-af06-4700-9a1a-64808f4ee090');\n",
       "var x = new MutationObserver(function (mutations, observer) {{\n",
       "        var display = window.getComputedStyle(gd).display;\n",
       "        if (!display || display === 'none') {{\n",
       "            console.log([gd, 'removed!']);\n",
       "            Plotly.purge(gd);\n",
       "            observer.disconnect();\n",
       "        }}\n",
       "}});\n",
       "\n",
       "// Listen for the removal of the full notebook cells\n",
       "var notebookContainer = gd.closest('#notebook-container');\n",
       "if (notebookContainer) {{\n",
       "    x.observe(notebookContainer, {childList: true});\n",
       "}}\n",
       "\n",
       "// Listen for the clearing of the current output cell\n",
       "var outputEl = gd.closest('.output');\n",
       "if (outputEl) {{\n",
       "    x.observe(outputEl, {childList: true});\n",
       "}}\n",
       "\n",
       "                        })                };                });            </script>        </div>"
      ]
     },
     "metadata": {},
     "output_type": "display_data"
    }
   ],
   "source": [
    "# read resEnergy for both random  \n",
    "reRandom = pd.read_csv('results/resEnergy_random_all.csv')\n",
    "reRandom = reRandom[['nHubs', 'resEnergy', 'type']]\n",
    "\n",
    "# read resEnergy for new and old  \n",
    "def readResEnergy(fileName, extension): \n",
    "    cols = ['index', 'resEnergy', 'nHubs', 'startTime', 'endTime']\n",
    "    reFile = pd.read_csv(fileName, header=None, names=cols) # fileName = 'results/resEnergy_230328_2-138.csv'\n",
    "    temp = reFile.copy()\n",
    "    temp = temp.groupby('nHubs').min().resEnergy.reset_index()\n",
    "    temp['type'] = 'ssaa_{}'.format(extension)\n",
    "    return temp\n",
    "reNew = readResEnergy('results/resEnergy_230328_2-138.csv', 'new')\n",
    "reOldDfs = []\n",
    "for hubRange in ['2-50', '51-80', '81-110', '111-138']: \n",
    "    temp = readResEnergy('results/resEnergy_parallel_{}.csv'.format(hubRange), 'old_{}'.format(hubRange))\n",
    "    reOldDfs.append(temp)\n",
    "reOld = pd.concat(reOldDfs)\n",
    "reOld.type = 'ssaa_old'\n",
    "reOld.to_csv('results/resEnergy_230324_all.csv')\n",
    "\n",
    "reBoth = pd.concat([reNew, reOld])\n",
    "px.scatter(reBoth, x='nHubs', y='resEnergy', color='type')"
   ]
  },
  {
   "cell_type": "code",
   "execution_count": 33,
   "id": "c48e080f-4317-4dd4-ad26-94a568979c3e",
   "metadata": {},
   "outputs": [],
   "source": [
    "def readResPoints(fileName, extension): \n",
    "    cols = ['index', 'hubName', 'x', 'y', 'nHubs', 'startTime', 'endTime']\n",
    "    rpFile = pd.read_csv(fileName, header=None, names=cols)\n",
    "    rpNew = rpFile.copy()\n",
    "    rpNew = rpNew[['hubName', 'x', 'y', 'nHubs']]\n",
    "    rpNew.hubName = rpNew.hubName - 1\n",
    "    rpNew = gpd.GeoDataFrame(rpNew, geometry = gpd.points_from_xy(rpNew.x, rpNew.y), crs='EPSG:28992')\n",
    "    rpNew['type'] = extension\n",
    "    return rpNew\n",
    "\n",
    "rpNew = readResPoints('results/resPoints_230328_2-138.csv', 'ssaa_new')\n",
    "\n",
    "rpOldDfs = []\n",
    "for hubRange in ['2-50', '51-80', '81-110', '111-138']: \n",
    "    temp = readResPoints('results/resPoints_parallel_{}.csv'.format(hubRange), 'ssaa_old')\n",
    "    rpOldDfs.append(temp)\n",
    "rpOld = pd.concat(rpOldDfs)"
   ]
  },
  {
   "cell_type": "code",
   "execution_count": 62,
   "id": "89dd5df1-fd8e-4502-bfa4-9cd34100fdd8",
   "metadata": {},
   "outputs": [
    {
     "data": {
      "application/vnd.plotly.v1+json": {
       "config": {
        "plotlyServerURL": "https://plot.ly"
       },
       "data": [
        {
         "hovertemplate": "type=ssaa_old<br>nHubs=%{x}<br>nUniqueHubs=%{y}<extra></extra>",
         "legendgroup": "ssaa_old",
         "marker": {
          "color": "#636efa",
          "symbol": "circle"
         },
         "mode": "markers",
         "name": "ssaa_old",
         "orientation": "v",
         "showlegend": true,
         "type": "scatter",
         "visible": "legendonly",
         "x": [
          2,
          3,
          4,
          5,
          6,
          7,
          8,
          9,
          10,
          11,
          12,
          13,
          14,
          15,
          16,
          17,
          18,
          19,
          20,
          21,
          22,
          23,
          24,
          25,
          26,
          27,
          28,
          29,
          30,
          31,
          32,
          33,
          34,
          35,
          36,
          37,
          38,
          39,
          40,
          41,
          42,
          43,
          44,
          45,
          46,
          47,
          48,
          49,
          50,
          51,
          52,
          53,
          54,
          55,
          56,
          57,
          58,
          59,
          60,
          61,
          62,
          63,
          64,
          65,
          66,
          67,
          68,
          69,
          70,
          71,
          72,
          73,
          74,
          75,
          76,
          77,
          78,
          79,
          80,
          81,
          82,
          83,
          84,
          85,
          86,
          87,
          88,
          89,
          90,
          91,
          92,
          93,
          94,
          95,
          96,
          97,
          98,
          99,
          100,
          101,
          102,
          103,
          104,
          105,
          106,
          107,
          108,
          109,
          110,
          111,
          112,
          113,
          114,
          115,
          116,
          117,
          118,
          119,
          120,
          121,
          122,
          123,
          124,
          125,
          126,
          127,
          128,
          129,
          130,
          131,
          133
         ],
         "xaxis": "x",
         "y": [
          2,
          3,
          4,
          5,
          6,
          7,
          8,
          9,
          10,
          11,
          12,
          13,
          14,
          15,
          16,
          17,
          18,
          19,
          20,
          21,
          22,
          23,
          24,
          25,
          26,
          23,
          28,
          29,
          28,
          31,
          32,
          33,
          34,
          35,
          36,
          37,
          38,
          39,
          40,
          41,
          42,
          43,
          44,
          45,
          46,
          47,
          48,
          49,
          50,
          51,
          52,
          53,
          54,
          55,
          56,
          57,
          58,
          59,
          60,
          61,
          62,
          63,
          64,
          65,
          66,
          67,
          68,
          69,
          70,
          71,
          72,
          73,
          74,
          75,
          76,
          77,
          78,
          79,
          80,
          81,
          82,
          83,
          84,
          85,
          86,
          87,
          88,
          89,
          90,
          91,
          92,
          93,
          94,
          95,
          96,
          97,
          98,
          99,
          99,
          101,
          102,
          103,
          103,
          104,
          101,
          103,
          105,
          105,
          105,
          106,
          108,
          106,
          104,
          106,
          108,
          103,
          108,
          104,
          106,
          108,
          106,
          106,
          106,
          106,
          105,
          108,
          106,
          106,
          106,
          106,
          106
         ],
         "yaxis": "y"
        },
        {
         "hovertemplate": "type=ssaa_new<br>nHubs=%{x}<br>nUniqueHubs=%{y}<extra></extra>",
         "legendgroup": "ssaa_new",
         "marker": {
          "color": "#EF553B",
          "symbol": "circle"
         },
         "mode": "markers",
         "name": "ssaa_new",
         "orientation": "v",
         "showlegend": true,
         "type": "scatter",
         "x": [
          2,
          3,
          4,
          5,
          6,
          7,
          8,
          9,
          10,
          11,
          12,
          13,
          14,
          15,
          16,
          17,
          18,
          19,
          20,
          21,
          22,
          23,
          24,
          25,
          26,
          28,
          29,
          31,
          32,
          34,
          36,
          39,
          42,
          45,
          48,
          51,
          53,
          56,
          59,
          62,
          107,
          119,
          122,
          123,
          124,
          125,
          127,
          128,
          129,
          130,
          131,
          132,
          133,
          134,
          135
         ],
         "xaxis": "x",
         "y": [
          2,
          3,
          4,
          5,
          6,
          7,
          8,
          9,
          10,
          11,
          12,
          13,
          14,
          15,
          16,
          17,
          18,
          19,
          20,
          21,
          22,
          23,
          24,
          25,
          26,
          25,
          27,
          28,
          25,
          29,
          29,
          26,
          28,
          26,
          28,
          28,
          28,
          28,
          28,
          28,
          28,
          19,
          16,
          14,
          14,
          13,
          11,
          10,
          9,
          8,
          7,
          6,
          5,
          4,
          3
         ],
         "yaxis": "y"
        }
       ],
       "layout": {
        "autosize": true,
        "legend": {
         "title": {
          "text": "type"
         },
         "tracegroupgap": 0
        },
        "template": {
         "data": {
          "bar": [
           {
            "error_x": {
             "color": "#2a3f5f"
            },
            "error_y": {
             "color": "#2a3f5f"
            },
            "marker": {
             "line": {
              "color": "#E5ECF6",
              "width": 0.5
             },
             "pattern": {
              "fillmode": "overlay",
              "size": 10,
              "solidity": 0.2
             }
            },
            "type": "bar"
           }
          ],
          "barpolar": [
           {
            "marker": {
             "line": {
              "color": "#E5ECF6",
              "width": 0.5
             },
             "pattern": {
              "fillmode": "overlay",
              "size": 10,
              "solidity": 0.2
             }
            },
            "type": "barpolar"
           }
          ],
          "carpet": [
           {
            "aaxis": {
             "endlinecolor": "#2a3f5f",
             "gridcolor": "white",
             "linecolor": "white",
             "minorgridcolor": "white",
             "startlinecolor": "#2a3f5f"
            },
            "baxis": {
             "endlinecolor": "#2a3f5f",
             "gridcolor": "white",
             "linecolor": "white",
             "minorgridcolor": "white",
             "startlinecolor": "#2a3f5f"
            },
            "type": "carpet"
           }
          ],
          "choropleth": [
           {
            "colorbar": {
             "outlinewidth": 0,
             "ticks": ""
            },
            "type": "choropleth"
           }
          ],
          "contour": [
           {
            "colorbar": {
             "outlinewidth": 0,
             "ticks": ""
            },
            "colorscale": [
             [
              0,
              "#0d0887"
             ],
             [
              0.1111111111111111,
              "#46039f"
             ],
             [
              0.2222222222222222,
              "#7201a8"
             ],
             [
              0.3333333333333333,
              "#9c179e"
             ],
             [
              0.4444444444444444,
              "#bd3786"
             ],
             [
              0.5555555555555556,
              "#d8576b"
             ],
             [
              0.6666666666666666,
              "#ed7953"
             ],
             [
              0.7777777777777778,
              "#fb9f3a"
             ],
             [
              0.8888888888888888,
              "#fdca26"
             ],
             [
              1,
              "#f0f921"
             ]
            ],
            "type": "contour"
           }
          ],
          "contourcarpet": [
           {
            "colorbar": {
             "outlinewidth": 0,
             "ticks": ""
            },
            "type": "contourcarpet"
           }
          ],
          "heatmap": [
           {
            "colorbar": {
             "outlinewidth": 0,
             "ticks": ""
            },
            "colorscale": [
             [
              0,
              "#0d0887"
             ],
             [
              0.1111111111111111,
              "#46039f"
             ],
             [
              0.2222222222222222,
              "#7201a8"
             ],
             [
              0.3333333333333333,
              "#9c179e"
             ],
             [
              0.4444444444444444,
              "#bd3786"
             ],
             [
              0.5555555555555556,
              "#d8576b"
             ],
             [
              0.6666666666666666,
              "#ed7953"
             ],
             [
              0.7777777777777778,
              "#fb9f3a"
             ],
             [
              0.8888888888888888,
              "#fdca26"
             ],
             [
              1,
              "#f0f921"
             ]
            ],
            "type": "heatmap"
           }
          ],
          "heatmapgl": [
           {
            "colorbar": {
             "outlinewidth": 0,
             "ticks": ""
            },
            "colorscale": [
             [
              0,
              "#0d0887"
             ],
             [
              0.1111111111111111,
              "#46039f"
             ],
             [
              0.2222222222222222,
              "#7201a8"
             ],
             [
              0.3333333333333333,
              "#9c179e"
             ],
             [
              0.4444444444444444,
              "#bd3786"
             ],
             [
              0.5555555555555556,
              "#d8576b"
             ],
             [
              0.6666666666666666,
              "#ed7953"
             ],
             [
              0.7777777777777778,
              "#fb9f3a"
             ],
             [
              0.8888888888888888,
              "#fdca26"
             ],
             [
              1,
              "#f0f921"
             ]
            ],
            "type": "heatmapgl"
           }
          ],
          "histogram": [
           {
            "marker": {
             "pattern": {
              "fillmode": "overlay",
              "size": 10,
              "solidity": 0.2
             }
            },
            "type": "histogram"
           }
          ],
          "histogram2d": [
           {
            "colorbar": {
             "outlinewidth": 0,
             "ticks": ""
            },
            "colorscale": [
             [
              0,
              "#0d0887"
             ],
             [
              0.1111111111111111,
              "#46039f"
             ],
             [
              0.2222222222222222,
              "#7201a8"
             ],
             [
              0.3333333333333333,
              "#9c179e"
             ],
             [
              0.4444444444444444,
              "#bd3786"
             ],
             [
              0.5555555555555556,
              "#d8576b"
             ],
             [
              0.6666666666666666,
              "#ed7953"
             ],
             [
              0.7777777777777778,
              "#fb9f3a"
             ],
             [
              0.8888888888888888,
              "#fdca26"
             ],
             [
              1,
              "#f0f921"
             ]
            ],
            "type": "histogram2d"
           }
          ],
          "histogram2dcontour": [
           {
            "colorbar": {
             "outlinewidth": 0,
             "ticks": ""
            },
            "colorscale": [
             [
              0,
              "#0d0887"
             ],
             [
              0.1111111111111111,
              "#46039f"
             ],
             [
              0.2222222222222222,
              "#7201a8"
             ],
             [
              0.3333333333333333,
              "#9c179e"
             ],
             [
              0.4444444444444444,
              "#bd3786"
             ],
             [
              0.5555555555555556,
              "#d8576b"
             ],
             [
              0.6666666666666666,
              "#ed7953"
             ],
             [
              0.7777777777777778,
              "#fb9f3a"
             ],
             [
              0.8888888888888888,
              "#fdca26"
             ],
             [
              1,
              "#f0f921"
             ]
            ],
            "type": "histogram2dcontour"
           }
          ],
          "mesh3d": [
           {
            "colorbar": {
             "outlinewidth": 0,
             "ticks": ""
            },
            "type": "mesh3d"
           }
          ],
          "parcoords": [
           {
            "line": {
             "colorbar": {
              "outlinewidth": 0,
              "ticks": ""
             }
            },
            "type": "parcoords"
           }
          ],
          "pie": [
           {
            "automargin": true,
            "type": "pie"
           }
          ],
          "scatter": [
           {
            "fillpattern": {
             "fillmode": "overlay",
             "size": 10,
             "solidity": 0.2
            },
            "type": "scatter"
           }
          ],
          "scatter3d": [
           {
            "line": {
             "colorbar": {
              "outlinewidth": 0,
              "ticks": ""
             }
            },
            "marker": {
             "colorbar": {
              "outlinewidth": 0,
              "ticks": ""
             }
            },
            "type": "scatter3d"
           }
          ],
          "scattercarpet": [
           {
            "marker": {
             "colorbar": {
              "outlinewidth": 0,
              "ticks": ""
             }
            },
            "type": "scattercarpet"
           }
          ],
          "scattergeo": [
           {
            "marker": {
             "colorbar": {
              "outlinewidth": 0,
              "ticks": ""
             }
            },
            "type": "scattergeo"
           }
          ],
          "scattergl": [
           {
            "marker": {
             "colorbar": {
              "outlinewidth": 0,
              "ticks": ""
             }
            },
            "type": "scattergl"
           }
          ],
          "scattermapbox": [
           {
            "marker": {
             "colorbar": {
              "outlinewidth": 0,
              "ticks": ""
             }
            },
            "type": "scattermapbox"
           }
          ],
          "scatterpolar": [
           {
            "marker": {
             "colorbar": {
              "outlinewidth": 0,
              "ticks": ""
             }
            },
            "type": "scatterpolar"
           }
          ],
          "scatterpolargl": [
           {
            "marker": {
             "colorbar": {
              "outlinewidth": 0,
              "ticks": ""
             }
            },
            "type": "scatterpolargl"
           }
          ],
          "scatterternary": [
           {
            "marker": {
             "colorbar": {
              "outlinewidth": 0,
              "ticks": ""
             }
            },
            "type": "scatterternary"
           }
          ],
          "surface": [
           {
            "colorbar": {
             "outlinewidth": 0,
             "ticks": ""
            },
            "colorscale": [
             [
              0,
              "#0d0887"
             ],
             [
              0.1111111111111111,
              "#46039f"
             ],
             [
              0.2222222222222222,
              "#7201a8"
             ],
             [
              0.3333333333333333,
              "#9c179e"
             ],
             [
              0.4444444444444444,
              "#bd3786"
             ],
             [
              0.5555555555555556,
              "#d8576b"
             ],
             [
              0.6666666666666666,
              "#ed7953"
             ],
             [
              0.7777777777777778,
              "#fb9f3a"
             ],
             [
              0.8888888888888888,
              "#fdca26"
             ],
             [
              1,
              "#f0f921"
             ]
            ],
            "type": "surface"
           }
          ],
          "table": [
           {
            "cells": {
             "fill": {
              "color": "#EBF0F8"
             },
             "line": {
              "color": "white"
             }
            },
            "header": {
             "fill": {
              "color": "#C8D4E3"
             },
             "line": {
              "color": "white"
             }
            },
            "type": "table"
           }
          ]
         },
         "layout": {
          "annotationdefaults": {
           "arrowcolor": "#2a3f5f",
           "arrowhead": 0,
           "arrowwidth": 1
          },
          "autotypenumbers": "strict",
          "coloraxis": {
           "colorbar": {
            "outlinewidth": 0,
            "ticks": ""
           }
          },
          "colorscale": {
           "diverging": [
            [
             0,
             "#8e0152"
            ],
            [
             0.1,
             "#c51b7d"
            ],
            [
             0.2,
             "#de77ae"
            ],
            [
             0.3,
             "#f1b6da"
            ],
            [
             0.4,
             "#fde0ef"
            ],
            [
             0.5,
             "#f7f7f7"
            ],
            [
             0.6,
             "#e6f5d0"
            ],
            [
             0.7,
             "#b8e186"
            ],
            [
             0.8,
             "#7fbc41"
            ],
            [
             0.9,
             "#4d9221"
            ],
            [
             1,
             "#276419"
            ]
           ],
           "sequential": [
            [
             0,
             "#0d0887"
            ],
            [
             0.1111111111111111,
             "#46039f"
            ],
            [
             0.2222222222222222,
             "#7201a8"
            ],
            [
             0.3333333333333333,
             "#9c179e"
            ],
            [
             0.4444444444444444,
             "#bd3786"
            ],
            [
             0.5555555555555556,
             "#d8576b"
            ],
            [
             0.6666666666666666,
             "#ed7953"
            ],
            [
             0.7777777777777778,
             "#fb9f3a"
            ],
            [
             0.8888888888888888,
             "#fdca26"
            ],
            [
             1,
             "#f0f921"
            ]
           ],
           "sequentialminus": [
            [
             0,
             "#0d0887"
            ],
            [
             0.1111111111111111,
             "#46039f"
            ],
            [
             0.2222222222222222,
             "#7201a8"
            ],
            [
             0.3333333333333333,
             "#9c179e"
            ],
            [
             0.4444444444444444,
             "#bd3786"
            ],
            [
             0.5555555555555556,
             "#d8576b"
            ],
            [
             0.6666666666666666,
             "#ed7953"
            ],
            [
             0.7777777777777778,
             "#fb9f3a"
            ],
            [
             0.8888888888888888,
             "#fdca26"
            ],
            [
             1,
             "#f0f921"
            ]
           ]
          },
          "colorway": [
           "#636efa",
           "#EF553B",
           "#00cc96",
           "#ab63fa",
           "#FFA15A",
           "#19d3f3",
           "#FF6692",
           "#B6E880",
           "#FF97FF",
           "#FECB52"
          ],
          "font": {
           "color": "#2a3f5f"
          },
          "geo": {
           "bgcolor": "white",
           "lakecolor": "white",
           "landcolor": "#E5ECF6",
           "showlakes": true,
           "showland": true,
           "subunitcolor": "white"
          },
          "hoverlabel": {
           "align": "left"
          },
          "hovermode": "closest",
          "mapbox": {
           "style": "light"
          },
          "paper_bgcolor": "white",
          "plot_bgcolor": "#E5ECF6",
          "polar": {
           "angularaxis": {
            "gridcolor": "white",
            "linecolor": "white",
            "ticks": ""
           },
           "bgcolor": "#E5ECF6",
           "radialaxis": {
            "gridcolor": "white",
            "linecolor": "white",
            "ticks": ""
           }
          },
          "scene": {
           "xaxis": {
            "backgroundcolor": "#E5ECF6",
            "gridcolor": "white",
            "gridwidth": 2,
            "linecolor": "white",
            "showbackground": true,
            "ticks": "",
            "zerolinecolor": "white"
           },
           "yaxis": {
            "backgroundcolor": "#E5ECF6",
            "gridcolor": "white",
            "gridwidth": 2,
            "linecolor": "white",
            "showbackground": true,
            "ticks": "",
            "zerolinecolor": "white"
           },
           "zaxis": {
            "backgroundcolor": "#E5ECF6",
            "gridcolor": "white",
            "gridwidth": 2,
            "linecolor": "white",
            "showbackground": true,
            "ticks": "",
            "zerolinecolor": "white"
           }
          },
          "shapedefaults": {
           "line": {
            "color": "#2a3f5f"
           }
          },
          "ternary": {
           "aaxis": {
            "gridcolor": "white",
            "linecolor": "white",
            "ticks": ""
           },
           "baxis": {
            "gridcolor": "white",
            "linecolor": "white",
            "ticks": ""
           },
           "bgcolor": "#E5ECF6",
           "caxis": {
            "gridcolor": "white",
            "linecolor": "white",
            "ticks": ""
           }
          },
          "title": {
           "x": 0.05
          },
          "xaxis": {
           "automargin": true,
           "gridcolor": "white",
           "linecolor": "white",
           "ticks": "",
           "title": {
            "standoff": 15
           },
           "zerolinecolor": "white",
           "zerolinewidth": 2
          },
          "yaxis": {
           "automargin": true,
           "gridcolor": "white",
           "linecolor": "white",
           "ticks": "",
           "title": {
            "standoff": 15
           },
           "zerolinecolor": "white",
           "zerolinewidth": 2
          }
         }
        },
        "title": {
         "text": "num unique hubs from ssaa results"
        },
        "xaxis": {
         "anchor": "y",
         "autorange": true,
         "domain": [
          0,
          1
         ],
         "range": [
          -6.067266495287061,
          143.06726649528707
         ],
         "title": {
          "text": "nHubs"
         },
         "type": "linear"
        },
        "yaxis": {
         "anchor": "x",
         "autorange": true,
         "domain": [
          0,
          1
         ],
         "range": [
          -0.22815533980582536,
          31.228155339805824
         ],
         "title": {
          "text": "nUniqueHubs"
         },
         "type": "linear"
        }
       }
      },
      "image/png": "[encoded data removed]",
      "text/html": [
       "<div>                            <div id=\"5bf3caab-3655-4a05-a7ff-aacfa360d5e2\" class=\"plotly-graph-div\" style=\"height:525px; width:100%;\"></div>            <script type=\"text/javascript\">                require([\"plotly\"], function(Plotly) {                    window.PLOTLYENV=window.PLOTLYENV || {};                                    if (document.getElementById(\"5bf3caab-3655-4a05-a7ff-aacfa360d5e2\")) {                    Plotly.newPlot(                        \"5bf3caab-3655-4a05-a7ff-aacfa360d5e2\",                        [{\"hovertemplate\":\"type=ssaa_old<br>nHubs=%{x}<br>nUniqueHubs=%{y}<extra></extra>\",\"legendgroup\":\"ssaa_old\",\"marker\":{\"color\":\"#636efa\",\"symbol\":\"circle\"},\"mode\":\"markers\",\"name\":\"ssaa_old\",\"orientation\":\"v\",\"showlegend\":true,\"x\":[2,3,4,5,6,7,8,9,10,11,12,13,14,15,16,17,18,19,20,21,22,23,24,25,26,27,28,29,30,31,32,33,34,35,36,37,38,39,40,41,42,43,44,45,46,47,48,49,50,51,52,53,54,55,56,57,58,59,60,61,62,63,64,65,66,67,68,69,70,71,72,73,74,75,76,77,78,79,80,81,82,83,84,85,86,87,88,89,90,91,92,93,94,95,96,97,98,99,100,101,102,103,104,105,106,107,108,109,110,111,112,113,114,115,116,117,118,119,120,121,122,123,124,125,126,127,128,129,130,131,133],\"xaxis\":\"x\",\"y\":[2,3,4,5,6,7,8,9,10,11,12,13,14,15,16,17,18,19,20,21,22,23,24,25,26,23,28,29,28,31,32,33,34,35,36,37,38,39,40,41,42,43,44,45,46,47,48,49,50,51,52,53,54,55,56,57,58,59,60,61,62,63,64,65,66,67,68,69,70,71,72,73,74,75,76,77,78,79,80,81,82,83,84,85,86,87,88,89,90,91,92,93,94,95,96,97,98,99,99,101,102,103,103,104,101,103,105,105,105,106,108,106,104,106,108,103,108,104,106,108,106,106,106,106,105,108,106,106,106,106,106],\"yaxis\":\"y\",\"type\":\"scatter\"},{\"hovertemplate\":\"type=ssaa_new<br>nHubs=%{x}<br>nUniqueHubs=%{y}<extra></extra>\",\"legendgroup\":\"ssaa_new\",\"marker\":{\"color\":\"#EF553B\",\"symbol\":\"circle\"},\"mode\":\"markers\",\"name\":\"ssaa_new\",\"orientation\":\"v\",\"showlegend\":true,\"x\":[2,3,4,5,6,7,8,9,10,11,12,13,14,15,16,17,18,19,20,21,22,23,24,25,26,28,29,31,32,34,36,39,42,45,48,51,53,56,59,62,107,119,122,123,124,125,127,128,129,130,131,132,133,134,135],\"xaxis\":\"x\",\"y\":[2,3,4,5,6,7,8,9,10,11,12,13,14,15,16,17,18,19,20,21,22,23,24,25,26,25,27,28,25,29,29,26,28,26,28,28,28,28,28,28,28,19,16,14,14,13,11,10,9,8,7,6,5,4,3],\"yaxis\":\"y\",\"type\":\"scatter\"}],                        {\"template\":{\"data\":{\"histogram2dcontour\":[{\"type\":\"histogram2dcontour\",\"colorbar\":{\"outlinewidth\":0,\"ticks\":\"\"},\"colorscale\":[[0.0,\"#0d0887\"],[0.1111111111111111,\"#46039f\"],[0.2222222222222222,\"#7201a8\"],[0.3333333333333333,\"#9c179e\"],[0.4444444444444444,\"#bd3786\"],[0.5555555555555556,\"#d8576b\"],[0.6666666666666666,\"#ed7953\"],[0.7777777777777778,\"#fb9f3a\"],[0.8888888888888888,\"#fdca26\"],[1.0,\"#f0f921\"]]}],\"choropleth\":[{\"type\":\"choropleth\",\"colorbar\":{\"outlinewidth\":0,\"ticks\":\"\"}}],\"histogram2d\":[{\"type\":\"histogram2d\",\"colorbar\":{\"outlinewidth\":0,\"ticks\":\"\"},\"colorscale\":[[0.0,\"#0d0887\"],[0.1111111111111111,\"#46039f\"],[0.2222222222222222,\"#7201a8\"],[0.3333333333333333,\"#9c179e\"],[0.4444444444444444,\"#bd3786\"],[0.5555555555555556,\"#d8576b\"],[0.6666666666666666,\"#ed7953\"],[0.7777777777777778,\"#fb9f3a\"],[0.8888888888888888,\"#fdca26\"],[1.0,\"#f0f921\"]]}],\"heatmap\":[{\"type\":\"heatmap\",\"colorbar\":{\"outlinewidth\":0,\"ticks\":\"\"},\"colorscale\":[[0.0,\"#0d0887\"],[0.1111111111111111,\"#46039f\"],[0.2222222222222222,\"#7201a8\"],[0.3333333333333333,\"#9c179e\"],[0.4444444444444444,\"#bd3786\"],[0.5555555555555556,\"#d8576b\"],[0.6666666666666666,\"#ed7953\"],[0.7777777777777778,\"#fb9f3a\"],[0.8888888888888888,\"#fdca26\"],[1.0,\"#f0f921\"]]}],\"heatmapgl\":[{\"type\":\"heatmapgl\",\"colorbar\":{\"outlinewidth\":0,\"ticks\":\"\"},\"colorscale\":[[0.0,\"#0d0887\"],[0.1111111111111111,\"#46039f\"],[0.2222222222222222,\"#7201a8\"],[0.3333333333333333,\"#9c179e\"],[0.4444444444444444,\"#bd3786\"],[0.5555555555555556,\"#d8576b\"],[0.6666666666666666,\"#ed7953\"],[0.7777777777777778,\"#fb9f3a\"],[0.8888888888888888,\"#fdca26\"],[1.0,\"#f0f921\"]]}],\"contourcarpet\":[{\"type\":\"contourcarpet\",\"colorbar\":{\"outlinewidth\":0,\"ticks\":\"\"}}],\"contour\":[{\"type\":\"contour\",\"colorbar\":{\"outlinewidth\":0,\"ticks\":\"\"},\"colorscale\":[[0.0,\"#0d0887\"],[0.1111111111111111,\"#46039f\"],[0.2222222222222222,\"#7201a8\"],[0.3333333333333333,\"#9c179e\"],[0.4444444444444444,\"#bd3786\"],[0.5555555555555556,\"#d8576b\"],[0.6666666666666666,\"#ed7953\"],[0.7777777777777778,\"#fb9f3a\"],[0.8888888888888888,\"#fdca26\"],[1.0,\"#f0f921\"]]}],\"surface\":[{\"type\":\"surface\",\"colorbar\":{\"outlinewidth\":0,\"ticks\":\"\"},\"colorscale\":[[0.0,\"#0d0887\"],[0.1111111111111111,\"#46039f\"],[0.2222222222222222,\"#7201a8\"],[0.3333333333333333,\"#9c179e\"],[0.4444444444444444,\"#bd3786\"],[0.5555555555555556,\"#d8576b\"],[0.6666666666666666,\"#ed7953\"],[0.7777777777777778,\"#fb9f3a\"],[0.8888888888888888,\"#fdca26\"],[1.0,\"#f0f921\"]]}],\"mesh3d\":[{\"type\":\"mesh3d\",\"colorbar\":{\"outlinewidth\":0,\"ticks\":\"\"}}],\"scatter\":[{\"fillpattern\":{\"fillmode\":\"overlay\",\"size\":10,\"solidity\":0.2},\"type\":\"scatter\"}],\"parcoords\":[{\"type\":\"parcoords\",\"line\":{\"colorbar\":{\"outlinewidth\":0,\"ticks\":\"\"}}}],\"scatterpolargl\":[{\"type\":\"scatterpolargl\",\"marker\":{\"colorbar\":{\"outlinewidth\":0,\"ticks\":\"\"}}}],\"bar\":[{\"error_x\":{\"color\":\"#2a3f5f\"},\"error_y\":{\"color\":\"#2a3f5f\"},\"marker\":{\"line\":{\"color\":\"#E5ECF6\",\"width\":0.5},\"pattern\":{\"fillmode\":\"overlay\",\"size\":10,\"solidity\":0.2}},\"type\":\"bar\"}],\"scattergeo\":[{\"type\":\"scattergeo\",\"marker\":{\"colorbar\":{\"outlinewidth\":0,\"ticks\":\"\"}}}],\"scatterpolar\":[{\"type\":\"scatterpolar\",\"marker\":{\"colorbar\":{\"outlinewidth\":0,\"ticks\":\"\"}}}],\"histogram\":[{\"marker\":{\"pattern\":{\"fillmode\":\"overlay\",\"size\":10,\"solidity\":0.2}},\"type\":\"histogram\"}],\"scattergl\":[{\"type\":\"scattergl\",\"marker\":{\"colorbar\":{\"outlinewidth\":0,\"ticks\":\"\"}}}],\"scatter3d\":[{\"type\":\"scatter3d\",\"line\":{\"colorbar\":{\"outlinewidth\":0,\"ticks\":\"\"}},\"marker\":{\"colorbar\":{\"outlinewidth\":0,\"ticks\":\"\"}}}],\"scattermapbox\":[{\"type\":\"scattermapbox\",\"marker\":{\"colorbar\":{\"outlinewidth\":0,\"ticks\":\"\"}}}],\"scatterternary\":[{\"type\":\"scatterternary\",\"marker\":{\"colorbar\":{\"outlinewidth\":0,\"ticks\":\"\"}}}],\"scattercarpet\":[{\"type\":\"scattercarpet\",\"marker\":{\"colorbar\":{\"outlinewidth\":0,\"ticks\":\"\"}}}],\"carpet\":[{\"aaxis\":{\"endlinecolor\":\"#2a3f5f\",\"gridcolor\":\"white\",\"linecolor\":\"white\",\"minorgridcolor\":\"white\",\"startlinecolor\":\"#2a3f5f\"},\"baxis\":{\"endlinecolor\":\"#2a3f5f\",\"gridcolor\":\"white\",\"linecolor\":\"white\",\"minorgridcolor\":\"white\",\"startlinecolor\":\"#2a3f5f\"},\"type\":\"carpet\"}],\"table\":[{\"cells\":{\"fill\":{\"color\":\"#EBF0F8\"},\"line\":{\"color\":\"white\"}},\"header\":{\"fill\":{\"color\":\"#C8D4E3\"},\"line\":{\"color\":\"white\"}},\"type\":\"table\"}],\"barpolar\":[{\"marker\":{\"line\":{\"color\":\"#E5ECF6\",\"width\":0.5},\"pattern\":{\"fillmode\":\"overlay\",\"size\":10,\"solidity\":0.2}},\"type\":\"barpolar\"}],\"pie\":[{\"automargin\":true,\"type\":\"pie\"}]},\"layout\":{\"autotypenumbers\":\"strict\",\"colorway\":[\"#636efa\",\"#EF553B\",\"#00cc96\",\"#ab63fa\",\"#FFA15A\",\"#19d3f3\",\"#FF6692\",\"#B6E880\",\"#FF97FF\",\"#FECB52\"],\"font\":{\"color\":\"#2a3f5f\"},\"hovermode\":\"closest\",\"hoverlabel\":{\"align\":\"left\"},\"paper_bgcolor\":\"white\",\"plot_bgcolor\":\"#E5ECF6\",\"polar\":{\"bgcolor\":\"#E5ECF6\",\"angularaxis\":{\"gridcolor\":\"white\",\"linecolor\":\"white\",\"ticks\":\"\"},\"radialaxis\":{\"gridcolor\":\"white\",\"linecolor\":\"white\",\"ticks\":\"\"}},\"ternary\":{\"bgcolor\":\"#E5ECF6\",\"aaxis\":{\"gridcolor\":\"white\",\"linecolor\":\"white\",\"ticks\":\"\"},\"baxis\":{\"gridcolor\":\"white\",\"linecolor\":\"white\",\"ticks\":\"\"},\"caxis\":{\"gridcolor\":\"white\",\"linecolor\":\"white\",\"ticks\":\"\"}},\"coloraxis\":{\"colorbar\":{\"outlinewidth\":0,\"ticks\":\"\"}},\"colorscale\":{\"sequential\":[[0.0,\"#0d0887\"],[0.1111111111111111,\"#46039f\"],[0.2222222222222222,\"#7201a8\"],[0.3333333333333333,\"#9c179e\"],[0.4444444444444444,\"#bd3786\"],[0.5555555555555556,\"#d8576b\"],[0.6666666666666666,\"#ed7953\"],[0.7777777777777778,\"#fb9f3a\"],[0.8888888888888888,\"#fdca26\"],[1.0,\"#f0f921\"]],\"sequentialminus\":[[0.0,\"#0d0887\"],[0.1111111111111111,\"#46039f\"],[0.2222222222222222,\"#7201a8\"],[0.3333333333333333,\"#9c179e\"],[0.4444444444444444,\"#bd3786\"],[0.5555555555555556,\"#d8576b\"],[0.6666666666666666,\"#ed7953\"],[0.7777777777777778,\"#fb9f3a\"],[0.8888888888888888,\"#fdca26\"],[1.0,\"#f0f921\"]],\"diverging\":[[0,\"#8e0152\"],[0.1,\"#c51b7d\"],[0.2,\"#de77ae\"],[0.3,\"#f1b6da\"],[0.4,\"#fde0ef\"],[0.5,\"#f7f7f7\"],[0.6,\"#e6f5d0\"],[0.7,\"#b8e186\"],[0.8,\"#7fbc41\"],[0.9,\"#4d9221\"],[1,\"#276419\"]]},\"xaxis\":{\"gridcolor\":\"white\",\"linecolor\":\"white\",\"ticks\":\"\",\"title\":{\"standoff\":15},\"zerolinecolor\":\"white\",\"automargin\":true,\"zerolinewidth\":2},\"yaxis\":{\"gridcolor\":\"white\",\"linecolor\":\"white\",\"ticks\":\"\",\"title\":{\"standoff\":15},\"zerolinecolor\":\"white\",\"automargin\":true,\"zerolinewidth\":2},\"scene\":{\"xaxis\":{\"backgroundcolor\":\"#E5ECF6\",\"gridcolor\":\"white\",\"linecolor\":\"white\",\"showbackground\":true,\"ticks\":\"\",\"zerolinecolor\":\"white\",\"gridwidth\":2},\"yaxis\":{\"backgroundcolor\":\"#E5ECF6\",\"gridcolor\":\"white\",\"linecolor\":\"white\",\"showbackground\":true,\"ticks\":\"\",\"zerolinecolor\":\"white\",\"gridwidth\":2},\"zaxis\":{\"backgroundcolor\":\"#E5ECF6\",\"gridcolor\":\"white\",\"linecolor\":\"white\",\"showbackground\":true,\"ticks\":\"\",\"zerolinecolor\":\"white\",\"gridwidth\":2}},\"shapedefaults\":{\"line\":{\"color\":\"#2a3f5f\"}},\"annotationdefaults\":{\"arrowcolor\":\"#2a3f5f\",\"arrowhead\":0,\"arrowwidth\":1},\"geo\":{\"bgcolor\":\"white\",\"landcolor\":\"#E5ECF6\",\"subunitcolor\":\"white\",\"showland\":true,\"showlakes\":true,\"lakecolor\":\"white\"},\"title\":{\"x\":0.05},\"mapbox\":{\"style\":\"light\"}}},\"xaxis\":{\"anchor\":\"y\",\"domain\":[0.0,1.0],\"title\":{\"text\":\"nHubs\"}},\"yaxis\":{\"anchor\":\"x\",\"domain\":[0.0,1.0],\"title\":{\"text\":\"nUniqueHubs\"}},\"legend\":{\"title\":{\"text\":\"type\"},\"tracegroupgap\":0},\"title\":{\"text\":\"num unique hubs from ssaa results\"}},                        {\"responsive\": true}                    ).then(function(){\n",
       "                            \n",
       "var gd = document.getElementById('5bf3caab-3655-4a05-a7ff-aacfa360d5e2');\n",
       "var x = new MutationObserver(function (mutations, observer) {{\n",
       "        var display = window.getComputedStyle(gd).display;\n",
       "        if (!display || display === 'none') {{\n",
       "            console.log([gd, 'removed!']);\n",
       "            Plotly.purge(gd);\n",
       "            observer.disconnect();\n",
       "        }}\n",
       "}});\n",
       "\n",
       "// Listen for the removal of the full notebook cells\n",
       "var notebookContainer = gd.closest('#notebook-container');\n",
       "if (notebookContainer) {{\n",
       "    x.observe(notebookContainer, {childList: true});\n",
       "}}\n",
       "\n",
       "// Listen for the clearing of the current output cell\n",
       "var outputEl = gd.closest('.output');\n",
       "if (outputEl) {{\n",
       "    x.observe(outputEl, {childList: true});\n",
       "}}\n",
       "\n",
       "                        })                };                });            </script>        </div>"
      ]
     },
     "metadata": {},
     "output_type": "display_data"
    }
   ],
   "source": [
    "def countUniqueHubs(nHubs, rpDf): \n",
    "    nUniqueHubs = len(rpDf[rpDf.nHubs == nHubs].hubName.unique())\n",
    "    if nUniqueHubs > nHubs: \n",
    "        nUniqueHubs = nHubs\n",
    "    return nUniqueHubs\n",
    "\n",
    "reOld['nUniqueHubs'] = reOld.nHubs.map(lambda nHubs: countUniqueHubs(nHubs, rpOld))\n",
    "reNew['nUniqueHubs'] = reNew.nHubs.map(lambda nHubs: countUniqueHubs(nHubs, rpNew))\n",
    "reBoth = pd.concat([reOld, reNew])\n",
    "\n",
    "px.scatter(reBoth, x='nHubs', y='nUniqueHubs', color='type', title='num unique hubs from ssaa results')"
   ]
  },
  {
   "cell_type": "code",
   "execution_count": 82,
   "id": "844c57ff-127a-42c8-9adf-997cbb2311c7",
   "metadata": {},
   "outputs": [],
   "source": [
    "candiHubs = gpd.read_file('data/candiHubs_ams.shp')\n",
    "matGrid = gpd.read_file('data/matGrid_ams.shp')"
   ]
  },
  {
   "cell_type": "code",
   "execution_count": 88,
   "id": "20589a2f-b53b-4ee8-a63c-fb8a7a26ee59",
   "metadata": {},
   "outputs": [
    {
     "data": {
      "text/plain": [
       "<AxesSubplot: >"
      ]
     },
     "execution_count": 88,
     "metadata": {},
     "output_type": "execute_result"
    },
    {
     "data": {
      "image/png": "[encoded data removed]",
      "text/plain": [
       "<Figure size 640x480 with 1 Axes>"
      ]
     },
     "metadata": {},
     "output_type": "display_data"
    }
   ],
   "source": [
    "nHubs = 62\n",
    "rpTest = rpNew[rpNew.nHubs == nHubs]\n",
    "rpTest = rpTest.groupby('hubName').count().x.reset_index()\n",
    "rpTest.rename(columns={'x': 'hubCount'}, inplace=True)\n",
    "rpTest = pd.merge(rpTest, candiHubs, on='hubName')\n",
    "rpTest = gpd.GeoDataFrame(rpTest)\n",
    "ax = matGrid.plot(color='lightgrey')\n",
    "rpTest.plot(markersize=rpTest.hubCount*10, ax=ax)"
   ]
  },
  {
   "cell_type": "code",
   "execution_count": null,
   "id": "6fb04dd5-52c5-47a1-849d-29b2c9857951",
   "metadata": {},
   "outputs": [
    {
     "data": {
      "text/html": [
       "<div>\n",
       "<style scoped>\n",
       "    .dataframe tbody tr th:only-of-type {\n",
       "        vertical-align: middle;\n",
       "    }\n",
       "\n",
       "    .dataframe tbody tr th {\n",
       "        vertical-align: top;\n",
       "    }\n",
       "\n",
       "    .dataframe thead th {\n",
       "        text-align: right;\n",
       "    }\n",
       "</style>\n",
       "<table border=\"1\" class=\"dataframe\">\n",
       "  <thead>\n",
       "    <tr style=\"text-align: right;\">\n",
       "      <th></th>\n",
       "      <th>hubName</th>\n",
       "      <th>hubCount</th>\n",
       "      <th>RIN_NUMMER</th>\n",
       "      <th>MAX_MILIEU</th>\n",
       "      <th>pPerSqm</th>\n",
       "      <th>geometry</th>\n",
       "    </tr>\n",
       "  </thead>\n",
       "  <tbody>\n",
       "    <tr>\n",
       "      <th>0</th>\n",
       "      <td>10</td>\n",
       "      <td>21</td>\n",
       "      <td>215031</td>\n",
       "      <td>3</td>\n",
       "      <td>291.971767</td>\n",
       "      <td>POINT (139818.183 484096.441)</td>\n",
       "    </tr>\n",
       "    <tr>\n",
       "      <th>1</th>\n",
       "      <td>11</td>\n",
       "      <td>5</td>\n",
       "      <td>262019003</td>\n",
       "      <td>3</td>\n",
       "      <td>288.198390</td>\n",
       "      <td>POINT (117432.643 471666.113)</td>\n",
       "    </tr>\n",
       "    <tr>\n",
       "      <th>2</th>\n",
       "      <td>21</td>\n",
       "      <td>4</td>\n",
       "      <td>1583</td>\n",
       "      <td>3</td>\n",
       "      <td>189.009620</td>\n",
       "      <td>POINT (103386.486 483071.121)</td>\n",
       "    </tr>\n",
       "    <tr>\n",
       "      <th>3</th>\n",
       "      <td>23</td>\n",
       "      <td>3</td>\n",
       "      <td>1478</td>\n",
       "      <td>3</td>\n",
       "      <td>236.914362</td>\n",
       "      <td>POINT (114331.587 489612.144)</td>\n",
       "    </tr>\n",
       "    <tr>\n",
       "      <th>4</th>\n",
       "      <td>25</td>\n",
       "      <td>4</td>\n",
       "      <td>27201036</td>\n",
       "      <td>3</td>\n",
       "      <td>252.066723</td>\n",
       "      <td>POINT (118529.541 490045.490)</td>\n",
       "    </tr>\n",
       "  </tbody>\n",
       "</table>\n",
       "</div>"
      ],
      "text/plain": [
       "   hubName  hubCount RIN_NUMMER  MAX_MILIEU     pPerSqm  \\\n",
       "0       10        21     215031           3  291.971767   \n",
       "1       11         5  262019003           3  288.198390   \n",
       "2       21         4       1583           3  189.009620   \n",
       "3       23         3       1478           3  236.914362   \n",
       "4       25         4   27201036           3  252.066723   \n",
       "\n",
       "                        geometry  \n",
       "0  POINT (139818.183 484096.441)  \n",
       "1  POINT (117432.643 471666.113)  \n",
       "2  POINT (103386.486 483071.121)  \n",
       "3  POINT (114331.587 489612.144)  \n",
       "4  POINT (118529.541 490045.490)  "
      ]
     },
     "execution_count": 93,
     "metadata": {},
     "output_type": "execute_result"
    }
   ],
   "source": [
    "rpTest.head()"
   ]
  },
  {
   "cell_type": "code",
   "execution_count": 94,
   "id": "baef9f08-b4ea-4cb8-8a7b-3831f2a9f302",
   "metadata": {},
   "outputs": [
    {
     "data": {
      "text/html": [
       "<div>\n",
       "<style scoped>\n",
       "    .dataframe tbody tr th:only-of-type {\n",
       "        vertical-align: middle;\n",
       "    }\n",
       "\n",
       "    .dataframe tbody tr th {\n",
       "        vertical-align: top;\n",
       "    }\n",
       "\n",
       "    .dataframe thead th {\n",
       "        text-align: right;\n",
       "    }\n",
       "</style>\n",
       "<table border=\"1\" class=\"dataframe\">\n",
       "  <thead>\n",
       "    <tr style=\"text-align: right;\">\n",
       "      <th></th>\n",
       "      <th>hubName</th>\n",
       "      <th>x</th>\n",
       "      <th>y</th>\n",
       "      <th>nHubs</th>\n",
       "      <th>geometry</th>\n",
       "      <th>type</th>\n",
       "    </tr>\n",
       "  </thead>\n",
       "  <tbody>\n",
       "    <tr>\n",
       "      <th>1104</th>\n",
       "      <td>10</td>\n",
       "      <td>139818.239553</td>\n",
       "      <td>484096.491091</td>\n",
       "      <td>62</td>\n",
       "      <td>POINT (139818.240 484096.491)</td>\n",
       "      <td>ssaa_new</td>\n",
       "    </tr>\n",
       "    <tr>\n",
       "      <th>1163</th>\n",
       "      <td>10</td>\n",
       "      <td>139818.203328</td>\n",
       "      <td>484098.887209</td>\n",
       "      <td>62</td>\n",
       "      <td>POINT (139818.203 484098.887)</td>\n",
       "      <td>ssaa_new</td>\n",
       "    </tr>\n",
       "    <tr>\n",
       "      <th>1162</th>\n",
       "      <td>10</td>\n",
       "      <td>139818.234402</td>\n",
       "      <td>484096.735577</td>\n",
       "      <td>62</td>\n",
       "      <td>POINT (139818.234 484096.736)</td>\n",
       "      <td>ssaa_new</td>\n",
       "    </tr>\n",
       "    <tr>\n",
       "      <th>1161</th>\n",
       "      <td>10</td>\n",
       "      <td>139818.210882</td>\n",
       "      <td>484098.681489</td>\n",
       "      <td>62</td>\n",
       "      <td>POINT (139818.211 484098.681)</td>\n",
       "      <td>ssaa_new</td>\n",
       "    </tr>\n",
       "    <tr>\n",
       "      <th>1157</th>\n",
       "      <td>10</td>\n",
       "      <td>139818.218088</td>\n",
       "      <td>484094.445987</td>\n",
       "      <td>62</td>\n",
       "      <td>POINT (139818.218 484094.446)</td>\n",
       "      <td>ssaa_new</td>\n",
       "    </tr>\n",
       "    <tr>\n",
       "      <th>...</th>\n",
       "      <td>...</td>\n",
       "      <td>...</td>\n",
       "      <td>...</td>\n",
       "      <td>...</td>\n",
       "      <td>...</td>\n",
       "      <td>...</td>\n",
       "    </tr>\n",
       "    <tr>\n",
       "      <th>1137</th>\n",
       "      <td>108</td>\n",
       "      <td>126475.150261</td>\n",
       "      <td>482670.459779</td>\n",
       "      <td>62</td>\n",
       "      <td>POINT (126475.150 482670.460)</td>\n",
       "      <td>ssaa_new</td>\n",
       "    </tr>\n",
       "    <tr>\n",
       "      <th>1115</th>\n",
       "      <td>109</td>\n",
       "      <td>116454.163716</td>\n",
       "      <td>477802.470641</td>\n",
       "      <td>62</td>\n",
       "      <td>POINT (116454.164 477802.471)</td>\n",
       "      <td>ssaa_new</td>\n",
       "    </tr>\n",
       "    <tr>\n",
       "      <th>1154</th>\n",
       "      <td>114</td>\n",
       "      <td>122994.735777</td>\n",
       "      <td>483237.807684</td>\n",
       "      <td>62</td>\n",
       "      <td>POINT (122994.736 483237.808)</td>\n",
       "      <td>ssaa_new</td>\n",
       "    </tr>\n",
       "    <tr>\n",
       "      <th>1106</th>\n",
       "      <td>128</td>\n",
       "      <td>98460.995794</td>\n",
       "      <td>478079.813353</td>\n",
       "      <td>62</td>\n",
       "      <td>POINT (98460.996 478079.813)</td>\n",
       "      <td>ssaa_new</td>\n",
       "    </tr>\n",
       "    <tr>\n",
       "      <th>1122</th>\n",
       "      <td>137</td>\n",
       "      <td>106723.712163</td>\n",
       "      <td>470975.603634</td>\n",
       "      <td>62</td>\n",
       "      <td>POINT (106723.712 470975.604)</td>\n",
       "      <td>ssaa_new</td>\n",
       "    </tr>\n",
       "  </tbody>\n",
       "</table>\n",
       "<p>62 rows × 6 columns</p>\n",
       "</div>"
      ],
      "text/plain": [
       "      hubName              x              y  nHubs  \\\n",
       "1104       10  139818.239553  484096.491091     62   \n",
       "1163       10  139818.203328  484098.887209     62   \n",
       "1162       10  139818.234402  484096.735577     62   \n",
       "1161       10  139818.210882  484098.681489     62   \n",
       "1157       10  139818.218088  484094.445987     62   \n",
       "...       ...            ...            ...    ...   \n",
       "1137      108  126475.150261  482670.459779     62   \n",
       "1115      109  116454.163716  477802.470641     62   \n",
       "1154      114  122994.735777  483237.807684     62   \n",
       "1106      128   98460.995794  478079.813353     62   \n",
       "1122      137  106723.712163  470975.603634     62   \n",
       "\n",
       "                           geometry      type  \n",
       "1104  POINT (139818.240 484096.491)  ssaa_new  \n",
       "1163  POINT (139818.203 484098.887)  ssaa_new  \n",
       "1162  POINT (139818.234 484096.736)  ssaa_new  \n",
       "1161  POINT (139818.211 484098.681)  ssaa_new  \n",
       "1157  POINT (139818.218 484094.446)  ssaa_new  \n",
       "...                             ...       ...  \n",
       "1137  POINT (126475.150 482670.460)  ssaa_new  \n",
       "1115  POINT (116454.164 477802.471)  ssaa_new  \n",
       "1154  POINT (122994.736 483237.808)  ssaa_new  \n",
       "1106   POINT (98460.996 478079.813)  ssaa_new  \n",
       "1122  POINT (106723.712 470975.604)  ssaa_new  \n",
       "\n",
       "[62 rows x 6 columns]"
      ]
     },
     "execution_count": 94,
     "metadata": {},
     "output_type": "execute_result"
    }
   ],
   "source": [
    "rpNew[rpNew.nHubs == 62].sort_values('hubName')"
   ]
  },
  {
   "cell_type": "code",
   "execution_count": 101,
   "id": "d12718cd-f29f-44f7-84d6-4ef0c4a306ad",
   "metadata": {},
   "outputs": [
    {
     "data": {
      "text/plain": [
       "29"
      ]
     },
     "execution_count": 101,
     "metadata": {},
     "output_type": "execute_result"
    }
   ],
   "source": [
    "# ran ssaa for nHubs=32 at low temperatures\n",
    "reTest = pd.read_csv('results/resEnergy_230329_test.csv', header=None, names=['index', 'resEnergy', 'nHubs', 'timeStamp'])\n",
    "rpTest = pd.read_csv('results/resPoints_230329_test.csv', header=None, names=['index', 'hubName', 'x', 'y', 'nHubs', 'timeStamp'])\n",
    "rpTest.hubName = rpTest.hubName - 1\n",
    "len(rpTest.hubName.unique())"
   ]
  },
  {
   "cell_type": "code",
   "execution_count": null,
   "id": "319c1fcb-c990-4fb5-8be7-5370b8c3a8eb",
   "metadata": {},
   "outputs": [],
   "source": []
  },
  {
   "cell_type": "markdown",
   "id": "8520cd45-cf7a-419d-991c-4da025d43246",
   "metadata": {
    "jp-MarkdownHeadingCollapsed": true,
    "tags": []
   },
   "source": [
    "# backup"
   ]
  },
  {
   "cell_type": "markdown",
   "id": "69e7d9a5-5ba7-46ac-9b77-fb27d4a6edf9",
   "metadata": {},
   "source": [
    "## 230327 - Adjusting storage cost to reflect redundancies"
   ]
  },
  {
   "cell_type": "code",
   "execution_count": 2,
   "id": "57ad479a-54a9-4273-9dc5-d99d0959fe32",
   "metadata": {},
   "outputs": [],
   "source": [
    "def assignHubsToGridCells(hubs, matGrid, distMatrix): \n",
    "    def findHub(matGrid_index): \n",
    "        hubs_index = [int(x) for x in list(hubs.hubName)]\n",
    "        dists = distMatrix[matGrid_index, hubs_index]\n",
    "        idxmin = np.argmin(dists)\n",
    "        chosenHub = hubs_index[idxmin]\n",
    "        return chosenHub\n",
    "    matGrid['hubName'] = matGrid.index.map(lambda x: findHub(x))\n",
    "    \n",
    "    # formatting \n",
    "    matGrid = matGrid[['kgDemand', 'kgSupply', 'hubName', 'geometry']]\n",
    "    \n",
    "    return matGrid "
   ]
  },
  {
   "cell_type": "code",
   "execution_count": 3,
   "id": "69df5195-27e7-42f0-9203-e04ad7dc3e2e",
   "metadata": {},
   "outputs": [],
   "source": [
    "matGrid = gpd.read_file('data/matGrid_ams.shp')\n",
    "candiHubs = gpd.read_file('data/candiHubs_ams.shp') \n",
    "distMatrix = np.load('data/costMatrix_ams.npy')"
   ]
  },
  {
   "cell_type": "code",
   "execution_count": 4,
   "id": "da466195-00c4-4efa-880d-139a65ca64e5",
   "metadata": {},
   "outputs": [],
   "source": [
    "from costEffectiveness_v2 import calcTotStorageCost"
   ]
  },
  {
   "cell_type": "code",
   "execution_count": 6,
   "id": "c7defaec-95da-40e9-b6a5-b42983d938a6",
   "metadata": {},
   "outputs": [],
   "source": [
    "hubs = candiHubs.sample(139)\n",
    "matGridAss = assignHubsToGridCells(hubs, matGrid, distMatrix)\n",
    "hubs, sc = calcTotStorageCost_original(hubs, matGridAss, candiHubs)"
   ]
  },
  {
   "cell_type": "code",
   "execution_count": 21,
   "id": "3f3f9cc0-377c-43a6-ba4a-fb67066b546a",
   "metadata": {},
   "outputs": [
    {
     "data": {
      "text/html": [
       "<div>\n",
       "<style scoped>\n",
       "    .dataframe tbody tr th:only-of-type {\n",
       "        vertical-align: middle;\n",
       "    }\n",
       "\n",
       "    .dataframe tbody tr th {\n",
       "        vertical-align: top;\n",
       "    }\n",
       "\n",
       "    .dataframe thead th {\n",
       "        text-align: right;\n",
       "    }\n",
       "</style>\n",
       "<table border=\"1\" class=\"dataframe\">\n",
       "  <thead>\n",
       "    <tr style=\"text-align: right;\">\n",
       "      <th></th>\n",
       "      <th>RIN_NUMMER</th>\n",
       "      <th>MAX_MILIEU</th>\n",
       "      <th>pPerSqm</th>\n",
       "      <th>hubName</th>\n",
       "      <th>geometry</th>\n",
       "      <th>m2</th>\n",
       "      <th>storagePrice</th>\n",
       "      <th>storageCost</th>\n",
       "    </tr>\n",
       "  </thead>\n",
       "  <tbody>\n",
       "    <tr>\n",
       "      <th>87</th>\n",
       "      <td>706173</td>\n",
       "      <td>3</td>\n",
       "      <td>240.898715</td>\n",
       "      <td>87</td>\n",
       "      <td>POINT (112618.668 500073.540)</td>\n",
       "      <td>11.101124</td>\n",
       "      <td>490.898715</td>\n",
       "      <td>5449.527403</td>\n",
       "    </tr>\n",
       "    <tr>\n",
       "      <th>131</th>\n",
       "      <td>170402</td>\n",
       "      <td>3</td>\n",
       "      <td>295.978862</td>\n",
       "      <td>131</td>\n",
       "      <td>POINT (102716.133 468813.293)</td>\n",
       "      <td>18.647601</td>\n",
       "      <td>545.978862</td>\n",
       "      <td>10181.196041</td>\n",
       "    </tr>\n",
       "    <tr>\n",
       "      <th>38</th>\n",
       "      <td>707023</td>\n",
       "      <td>3</td>\n",
       "      <td>241.933527</td>\n",
       "      <td>38</td>\n",
       "      <td>POINT (128446.318 493852.859)</td>\n",
       "      <td>2.131576</td>\n",
       "      <td>491.933527</td>\n",
       "      <td>1048.593743</td>\n",
       "    </tr>\n",
       "    <tr>\n",
       "      <th>14</th>\n",
       "      <td>827104</td>\n",
       "      <td>3</td>\n",
       "      <td>244.574386</td>\n",
       "      <td>14</td>\n",
       "      <td>POINT (112619.596 485883.500)</td>\n",
       "      <td>1.511847</td>\n",
       "      <td>494.574386</td>\n",
       "      <td>747.720926</td>\n",
       "    </tr>\n",
       "    <tr>\n",
       "      <th>58</th>\n",
       "      <td>1422</td>\n",
       "      <td>3</td>\n",
       "      <td>308.967376</td>\n",
       "      <td>58</td>\n",
       "      <td>POINT (117548.877 477554.342)</td>\n",
       "      <td>15.204404</td>\n",
       "      <td>558.967376</td>\n",
       "      <td>8498.765552</td>\n",
       "    </tr>\n",
       "    <tr>\n",
       "      <th>...</th>\n",
       "      <td>...</td>\n",
       "      <td>...</td>\n",
       "      <td>...</td>\n",
       "      <td>...</td>\n",
       "      <td>...</td>\n",
       "      <td>...</td>\n",
       "      <td>...</td>\n",
       "      <td>...</td>\n",
       "    </tr>\n",
       "    <tr>\n",
       "      <th>41</th>\n",
       "      <td>160008</td>\n",
       "      <td>3</td>\n",
       "      <td>257.195438</td>\n",
       "      <td>41</td>\n",
       "      <td>POINT (113935.641 486024.248)</td>\n",
       "      <td>37.215436</td>\n",
       "      <td>507.195438</td>\n",
       "      <td>18875.499343</td>\n",
       "    </tr>\n",
       "    <tr>\n",
       "      <th>23</th>\n",
       "      <td>1478</td>\n",
       "      <td>3</td>\n",
       "      <td>236.914362</td>\n",
       "      <td>23</td>\n",
       "      <td>POINT (114331.587 489612.144)</td>\n",
       "      <td>31.417537</td>\n",
       "      <td>486.914362</td>\n",
       "      <td>15297.649784</td>\n",
       "    </tr>\n",
       "    <tr>\n",
       "      <th>20</th>\n",
       "      <td>1393</td>\n",
       "      <td>3</td>\n",
       "      <td>295.657641</td>\n",
       "      <td>20</td>\n",
       "      <td>POINT (113217.639 474647.127)</td>\n",
       "      <td>4.342623</td>\n",
       "      <td>545.657641</td>\n",
       "      <td>2369.585570</td>\n",
       "    </tr>\n",
       "    <tr>\n",
       "      <th>50</th>\n",
       "      <td>827109</td>\n",
       "      <td>2</td>\n",
       "      <td>284.454371</td>\n",
       "      <td>50</td>\n",
       "      <td>POINT (127047.773 486205.547)</td>\n",
       "      <td>36.333592</td>\n",
       "      <td>534.454371</td>\n",
       "      <td>19418.646939</td>\n",
       "    </tr>\n",
       "    <tr>\n",
       "      <th>60</th>\n",
       "      <td>807112</td>\n",
       "      <td>3</td>\n",
       "      <td>299.650269</td>\n",
       "      <td>60</td>\n",
       "      <td>POINT (116364.668 474672.234)</td>\n",
       "      <td>0.152287</td>\n",
       "      <td>549.650269</td>\n",
       "      <td>83.704340</td>\n",
       "    </tr>\n",
       "  </tbody>\n",
       "</table>\n",
       "<p>65 rows × 8 columns</p>\n",
       "</div>"
      ],
      "text/plain": [
       "    RIN_NUMMER  MAX_MILIEU     pPerSqm  hubName  \\\n",
       "87      706173           3  240.898715       87   \n",
       "131     170402           3  295.978862      131   \n",
       "38      707023           3  241.933527       38   \n",
       "14      827104           3  244.574386       14   \n",
       "58        1422           3  308.967376       58   \n",
       "..         ...         ...         ...      ...   \n",
       "41      160008           3  257.195438       41   \n",
       "23        1478           3  236.914362       23   \n",
       "20        1393           3  295.657641       20   \n",
       "50      827109           2  284.454371       50   \n",
       "60      807112           3  299.650269       60   \n",
       "\n",
       "                          geometry         m2  storagePrice   storageCost  \n",
       "87   POINT (112618.668 500073.540)  11.101124    490.898715   5449.527403  \n",
       "131  POINT (102716.133 468813.293)  18.647601    545.978862  10181.196041  \n",
       "38   POINT (128446.318 493852.859)   2.131576    491.933527   1048.593743  \n",
       "14   POINT (112619.596 485883.500)   1.511847    494.574386    747.720926  \n",
       "58   POINT (117548.877 477554.342)  15.204404    558.967376   8498.765552  \n",
       "..                             ...        ...           ...           ...  \n",
       "41   POINT (113935.641 486024.248)  37.215436    507.195438  18875.499343  \n",
       "23   POINT (114331.587 489612.144)  31.417537    486.914362  15297.649784  \n",
       "20   POINT (113217.639 474647.127)   4.342623    545.657641   2369.585570  \n",
       "50   POINT (127047.773 486205.547)  36.333592    534.454371  19418.646939  \n",
       "60   POINT (116364.668 474672.234)   0.152287    549.650269     83.704340  \n",
       "\n",
       "[65 rows x 8 columns]"
      ]
     },
     "execution_count": 21,
     "metadata": {},
     "output_type": "execute_result"
    }
   ],
   "source": [
    "lenZeroHubs = len(hubs[hubs.m2 == 0])\n",
    "hubs[(hubs.m2 > 0) & (hubs.m2 < 50)]"
   ]
  },
  {
   "cell_type": "code",
   "execution_count": 12,
   "id": "6965c006-235e-47e0-b6bb-2e675aa0a847",
   "metadata": {},
   "outputs": [
    {
     "data": {
      "text/plain": [
       "<AxesSubplot: >"
      ]
     },
     "execution_count": 12,
     "metadata": {},
     "output_type": "execute_result"
    },
    {
     "data": {
      "image/png": "[encoded data removed]",
      "text/plain": [
       "<Figure size 640x480 with 1 Axes>"
      ]
     },
     "metadata": {},
     "output_type": "display_data"
    }
   ],
   "source": [
    "ax = matGridAss.plot(column='hubName', alpha=0.1)\n",
    "hubs.plot(ax=ax, color='black', marker='+')"
   ]
  },
  {
   "cell_type": "code",
   "execution_count": 107,
   "id": "4760eeb4-9242-4e7c-a6bb-676c73d137e6",
   "metadata": {
    "collapsed": true,
    "jupyter": {
     "outputs_hidden": true
    },
    "tags": []
   },
   "outputs": [
    {
     "name": "stdout",
     "output_type": "stream",
     "text": [
      "1\n",
      "2\n",
      "3\n",
      "4\n",
      "5\n",
      "6\n",
      "7\n",
      "8\n",
      "9\n",
      "10\n",
      "11\n",
      "12\n",
      "13\n",
      "14\n",
      "15\n",
      "16\n",
      "17\n",
      "18\n",
      "19\n",
      "20\n",
      "21\n",
      "22\n",
      "23\n",
      "24\n",
      "25\n",
      "26\n",
      "27\n",
      "28\n",
      "29\n",
      "30\n",
      "31\n",
      "32\n",
      "33\n",
      "34\n",
      "35\n",
      "36\n",
      "37\n",
      "38\n",
      "39\n",
      "40\n",
      "41\n",
      "42\n",
      "43\n",
      "44\n",
      "45\n",
      "46\n",
      "47\n",
      "48\n",
      "49\n",
      "50\n",
      "51\n",
      "52\n",
      "53\n",
      "54\n",
      "55\n",
      "56\n",
      "57\n",
      "58\n",
      "59\n",
      "60\n",
      "61\n",
      "62\n",
      "63\n",
      "64\n",
      "65\n",
      "66\n",
      "67\n",
      "68\n",
      "69\n",
      "70\n",
      "71\n",
      "72\n",
      "73\n",
      "74\n",
      "75\n",
      "76\n",
      "77\n",
      "78\n",
      "79\n",
      "80\n",
      "81\n",
      "82\n",
      "83\n",
      "84\n",
      "85\n",
      "86\n",
      "87\n",
      "88\n",
      "89\n",
      "90\n",
      "91\n",
      "92\n",
      "93\n",
      "94\n",
      "95\n",
      "96\n",
      "97\n",
      "98\n",
      "99\n",
      "100\n",
      "101\n",
      "102\n",
      "103\n",
      "104\n",
      "105\n",
      "106\n",
      "107\n",
      "108\n",
      "109\n",
      "110\n",
      "111\n",
      "112\n",
      "113\n",
      "114\n",
      "115\n",
      "116\n",
      "117\n",
      "118\n",
      "119\n",
      "120\n",
      "121\n",
      "122\n",
      "123\n",
      "124\n",
      "125\n",
      "126\n",
      "127\n",
      "128\n",
      "129\n",
      "130\n",
      "131\n",
      "132\n",
      "133\n",
      "134\n",
      "135\n",
      "136\n",
      "137\n",
      "138\n"
     ]
    }
   ],
   "source": [
    "storageCostDict = {}\n",
    "for nHubs in range(1, 139): \n",
    "    print(nHubs)\n",
    "    hubs = candiHubs.sample(nHubs)\n",
    "    matGridAss = assignHubsToGridCells(hubs, matGrid, distMatrix)\n",
    "    sc = calcTotStorageCost(hubs, matGridAss, candiHubs)\n",
    "    hubs, sc_modified = calcTotStorageCost_modified(hubs, matGridAss, candiHubs)\n",
    "    storageCostDict[nHubs] = [sc, sc_modified]"
   ]
  },
  {
   "cell_type": "code",
   "execution_count": 109,
   "id": "c0de2cc7-9c0a-4a17-8a98-e7c2e7b4d644",
   "metadata": {},
   "outputs": [],
   "source": [
    "storageCosts = np.array(list(storageCostDict.values()))"
   ]
  },
  {
   "cell_type": "code",
   "execution_count": 116,
   "id": "84f73659-a438-4849-8ed3-f0b057cbb291",
   "metadata": {},
   "outputs": [
    {
     "data": {
      "application/vnd.plotly.v1+json": {
       "config": {
        "plotlyServerURL": "https://plot.ly"
       },
       "data": [
        {
         "alignmentgroup": "True",
         "hovertemplate": "variable=wide_variable_0<br>x=%{x}<br>value=%{y}<extra></extra>",
         "legendgroup": "wide_variable_0",
         "marker": {
          "color": "#636efa",
          "pattern": {
           "shape": ""
          }
         },
         "name": "wide_variable_0",
         "offsetgroup": "wide_variable_0",
         "orientation": "v",
         "showlegend": true,
         "textposition": "auto",
         "type": "bar",
         "x": [
          1,
          2,
          3,
          4,
          5,
          6,
          7,
          8,
          9,
          10,
          11,
          12,
          13,
          14,
          15,
          16,
          17,
          18,
          19,
          20,
          21,
          22,
          23,
          24,
          25,
          26,
          27,
          28,
          29,
          30,
          31,
          32,
          33,
          34,
          35,
          36,
          37,
          38,
          39,
          40,
          41,
          42,
          43,
          44,
          45,
          46,
          47,
          48,
          49,
          50,
          51,
          52,
          53,
          54,
          55,
          56,
          57,
          58,
          59,
          60,
          61,
          62,
          63,
          64,
          65,
          66,
          67,
          68,
          69,
          70,
          71,
          72,
          73,
          74,
          75,
          76,
          77,
          78,
          79,
          80,
          81,
          82,
          83,
          84,
          85,
          86,
          87,
          88,
          89,
          90,
          91,
          92,
          93,
          94,
          95,
          96,
          97,
          98,
          99,
          100,
          101,
          102,
          103,
          104,
          105,
          106,
          107,
          108,
          109,
          110,
          111,
          112,
          113,
          114,
          115,
          116,
          117,
          118,
          119,
          120,
          121,
          122,
          123,
          124,
          125,
          126,
          127,
          128,
          129,
          130,
          131,
          132,
          133,
          134,
          135,
          136,
          137,
          138
         ],
         "xaxis": "x",
         "y": [
          2906833.037319889,
          2931879.191890693,
          2883899.2617300428,
          3059368.2644720925,
          2977885.1795863532,
          2951936.5694079194,
          3003153.3061065325,
          2914768.6832129285,
          2615107.2009786195,
          2590536.8266366464,
          3044405.4849849413,
          3055275.913397511,
          3132602.066939885,
          2746445.469459043,
          2989713.615049667,
          2527249.2636615764,
          2543048.1565647684,
          3337754.059310145,
          2531910.961994209,
          2717689.8055103105,
          2851534.5076207807,
          2830070.692549181,
          3192529.5352178584,
          2862532.992065117,
          2491787.6985948104,
          3103829.448465927,
          2988412.129105986,
          2812450.5520261205,
          2658396.944203032,
          3231127.558045556,
          3048669.322078143,
          2652699.680928831,
          2867044.525182513,
          2848422.8323267773,
          2961558.6716734106,
          2785759.432366737,
          2678299.6156046046,
          2804824.0044403668,
          2905269.0586543977,
          2785120.6020968226,
          2794653.0138689494,
          2711333.6292450037,
          2858725.3995482503,
          2783631.9338779664,
          2843240.1441521333,
          2830372.7156577297,
          2586421.394939884,
          2681619.402307041,
          2658859.577623534,
          2792559.311698458,
          2791455.2102180915,
          2646827.451726864,
          2889267.6337749944,
          2688665.323864095,
          2640766.060558293,
          2777203.2748807548,
          3074800.1911856174,
          3068903.893898248,
          2848190.9621594124,
          2573255.2266675015,
          2885809.127710413,
          2911672.1723944736,
          3024915.0740427454,
          2673620.8149427483,
          2709857.974619774,
          2728539.7878428507,
          2689456.4427654943,
          2717501.3779659825,
          2735763.020985364,
          2756415.086359749,
          2747508.7058234606,
          2733252.7671198873,
          2852612.5415125377,
          2662290.5193760605,
          2733810.737355446,
          2683163.2467950443,
          2708196.591004067,
          2695432.111475182,
          2688638.8396031153,
          2633982.480586989,
          2817028.3663816787,
          2586441.2104908614,
          2668704.950929067,
          2828302.5094641144,
          2690496.234491429,
          2718732.5966602396,
          2896818.8471645415,
          2749758.3814445687,
          2672485.171929196,
          2686258.2681167475,
          2745629.6396073387,
          2698299.758208601,
          2558821.7877766173,
          2711587.2356272554,
          2735123.606218209,
          2567789.4151544212,
          2678035.839261542,
          2686808.037007185,
          2658454.856962656,
          2706026.9893135773,
          2683137.321717814,
          2640782.0875701597,
          2686987.142865138,
          2568647.059412963,
          2753869.959804919,
          2741195.6095838407,
          2665733.107975263,
          2658482.9090568107,
          2634255.7155137584,
          2806201.8941486245,
          2690450.0119360415,
          2585768.078272344,
          2710056.075093091,
          2646089.3817822197,
          2653996.1025973153,
          2778966.466143194,
          2709747.7753126547,
          2720399.6918002996,
          2655747.9111561654,
          2655803.232848053,
          2686323.994338949,
          2653017.2465393413,
          2767419.5439371853,
          2665352.0359453782,
          2650107.7971683075,
          2681381.3153882623,
          2685944.446114965,
          2698256.662809103,
          2643314.1307958663,
          2678605.3863213505,
          2660061.443184756,
          2689285.671227521,
          2646322.129751994,
          2659317.03165798,
          2681037.207061991,
          2645547.5333610596,
          2641328.1661904408,
          2645547.5333610596
         ],
         "yaxis": "y"
        },
        {
         "alignmentgroup": "True",
         "hovertemplate": "variable=wide_variable_1<br>x=%{x}<br>value=%{y}<extra></extra>",
         "legendgroup": "wide_variable_1",
         "marker": {
          "color": "#EF553B",
          "pattern": {
           "shape": ""
          }
         },
         "name": "wide_variable_1",
         "offsetgroup": "wide_variable_1",
         "orientation": "v",
         "showlegend": true,
         "textposition": "auto",
         "type": "bar",
         "x": [
          1,
          2,
          3,
          4,
          5,
          6,
          7,
          8,
          9,
          10,
          11,
          12,
          13,
          14,
          15,
          16,
          17,
          18,
          19,
          20,
          21,
          22,
          23,
          24,
          25,
          26,
          27,
          28,
          29,
          30,
          31,
          32,
          33,
          34,
          35,
          36,
          37,
          38,
          39,
          40,
          41,
          42,
          43,
          44,
          45,
          46,
          47,
          48,
          49,
          50,
          51,
          52,
          53,
          54,
          55,
          56,
          57,
          58,
          59,
          60,
          61,
          62,
          63,
          64,
          65,
          66,
          67,
          68,
          69,
          70,
          71,
          72,
          73,
          74,
          75,
          76,
          77,
          78,
          79,
          80,
          81,
          82,
          83,
          84,
          85,
          86,
          87,
          88,
          89,
          90,
          91,
          92,
          93,
          94,
          95,
          96,
          97,
          98,
          99,
          100,
          101,
          102,
          103,
          104,
          105,
          106,
          107,
          108,
          109,
          110,
          111,
          112,
          113,
          114,
          115,
          116,
          117,
          118,
          119,
          120,
          121,
          122,
          123,
          124,
          125,
          126,
          127,
          128,
          129,
          130,
          131,
          132,
          133,
          134,
          135,
          136,
          137,
          138
         ],
         "xaxis": "x",
         "y": [
          2906833.037319889,
          2931879.191890693,
          2883899.2617300428,
          3059368.2644720925,
          2977885.1795863532,
          2951936.5694079194,
          3018949.953584537,
          2914768.6832129285,
          2621389.0029516025,
          2625575.5887806504,
          3072924.4761340553,
          3079485.980624963,
          3173005.4663065546,
          2751176.2045406173,
          3011135.6974965553,
          2570035.802685778,
          2673584.3009961112,
          3436077.0879089693,
          2595302.4497085833,
          2810630.354142825,
          2920922.4721893943,
          2999228.159199641,
          3271827.3073379328,
          2993297.9788599345,
          2662118.1409785757,
          3264097.6338444287,
          3201121.6524036396,
          3074517.0100434157,
          2873898.179123252,
          3434868.9529112238,
          3343528.9474219773,
          2897730.7590225157,
          3124526.7849701457,
          3107328.843653734,
          3317200.488758938,
          3046492.425565847,
          2982804.334645125,
          3213408.12615223,
          3286889.3450409584,
          3232502.7671350557,
          3175765.6707010125,
          3147282.579002148,
          3270957.2518872265,
          3255115.5082256906,
          3361161.664850695,
          3259072.228438558,
          3115255.441429863,
          3255596.7922396525,
          3183654.0527502447,
          3414459.0295509426,
          3370160.764704175,
          3307610.3848766075,
          3465681.9168010196,
          3391372.506595919,
          3295885.411909639,
          3478678.863489796,
          3863376.4658418866,
          3750709.850417104,
          3605608.174509859,
          3405610.041751517,
          3693275.910251676,
          3765930.096163177,
          3847131.8313947427,
          3462560.802112769,
          3578866.7398394607,
          3581997.6727070976,
          3582363.691950292,
          3682620.703996843,
          3746284.3016604087,
          3652083.584638591,
          3755213.9273603936,
          3781098.1005596276,
          3857180.556622323,
          3714287.2019498535,
          3839305.844106361,
          3765275.2157322005,
          3825823.268432439,
          3848189.489257946,
          3866564.105853104,
          3882960.7902564215,
          4007601.8795201643,
          3791660.324786993,
          3929127.03409893,
          4095664.8332283446,
          3983497.2065710365,
          4070519.6056279778,
          4199599.899172889,
          4033498.018937397,
          4097898.3641448873,
          4081286.9505744446,
          4162186.303006096,
          4127454.1069483035,
          3982105.1198394,
          4147758.647499261,
          4321192.393114172,
          4101533.573647497,
          4222843.628816028,
          4284526.381806664,
          4215422.32476002,
          4316093.656927111,
          4462281.974512773,
          4350000.704045802,
          4427110.027178638,
          4253271.539884032,
          4452670.94700236,
          4522391.042606665,
          4457476.846237662,
          4472909.175822436,
          4533568.800915949,
          4710369.569197688,
          4541911.534755658,
          4577330.342344711,
          4647218.870315849,
          4595703.37172335,
          4594900.840611886,
          4774328.696907984,
          4726688.312414123,
          4776790.151827603,
          4655865.851289641,
          4724718.899226625,
          4783497.150962523,
          4811088.038494486,
          5018512.376686582,
          4846696.134209914,
          4861049.153824467,
          4973235.716852548,
          4948772.685893669,
          4946365.121899238,
          4960062.422040198,
          5054439.85468103,
          4980844.709348189,
          5072927.690947527,
          5050809.792917514,
          5062911.814681275,
          5150593.102500495,
          5124739.637067996,
          5144127.217262579,
          5174628.501852799
         ],
         "yaxis": "y"
        }
       ],
       "layout": {
        "autosize": true,
        "barmode": "group",
        "legend": {
         "title": {
          "text": "variable"
         },
         "tracegroupgap": 0
        },
        "template": {
         "data": {
          "bar": [
           {
            "error_x": {
             "color": "#2a3f5f"
            },
            "error_y": {
             "color": "#2a3f5f"
            },
            "marker": {
             "line": {
              "color": "#E5ECF6",
              "width": 0.5
             },
             "pattern": {
              "fillmode": "overlay",
              "size": 10,
              "solidity": 0.2
             }
            },
            "type": "bar"
           }
          ],
          "barpolar": [
           {
            "marker": {
             "line": {
              "color": "#E5ECF6",
              "width": 0.5
             },
             "pattern": {
              "fillmode": "overlay",
              "size": 10,
              "solidity": 0.2
             }
            },
            "type": "barpolar"
           }
          ],
          "carpet": [
           {
            "aaxis": {
             "endlinecolor": "#2a3f5f",
             "gridcolor": "white",
             "linecolor": "white",
             "minorgridcolor": "white",
             "startlinecolor": "#2a3f5f"
            },
            "baxis": {
             "endlinecolor": "#2a3f5f",
             "gridcolor": "white",
             "linecolor": "white",
             "minorgridcolor": "white",
             "startlinecolor": "#2a3f5f"
            },
            "type": "carpet"
           }
          ],
          "choropleth": [
           {
            "colorbar": {
             "outlinewidth": 0,
             "ticks": ""
            },
            "type": "choropleth"
           }
          ],
          "contour": [
           {
            "colorbar": {
             "outlinewidth": 0,
             "ticks": ""
            },
            "colorscale": [
             [
              0,
              "#0d0887"
             ],
             [
              0.1111111111111111,
              "#46039f"
             ],
             [
              0.2222222222222222,
              "#7201a8"
             ],
             [
              0.3333333333333333,
              "#9c179e"
             ],
             [
              0.4444444444444444,
              "#bd3786"
             ],
             [
              0.5555555555555556,
              "#d8576b"
             ],
             [
              0.6666666666666666,
              "#ed7953"
             ],
             [
              0.7777777777777778,
              "#fb9f3a"
             ],
             [
              0.8888888888888888,
              "#fdca26"
             ],
             [
              1,
              "#f0f921"
             ]
            ],
            "type": "contour"
           }
          ],
          "contourcarpet": [
           {
            "colorbar": {
             "outlinewidth": 0,
             "ticks": ""
            },
            "type": "contourcarpet"
           }
          ],
          "heatmap": [
           {
            "colorbar": {
             "outlinewidth": 0,
             "ticks": ""
            },
            "colorscale": [
             [
              0,
              "#0d0887"
             ],
             [
              0.1111111111111111,
              "#46039f"
             ],
             [
              0.2222222222222222,
              "#7201a8"
             ],
             [
              0.3333333333333333,
              "#9c179e"
             ],
             [
              0.4444444444444444,
              "#bd3786"
             ],
             [
              0.5555555555555556,
              "#d8576b"
             ],
             [
              0.6666666666666666,
              "#ed7953"
             ],
             [
              0.7777777777777778,
              "#fb9f3a"
             ],
             [
              0.8888888888888888,
              "#fdca26"
             ],
             [
              1,
              "#f0f921"
             ]
            ],
            "type": "heatmap"
           }
          ],
          "heatmapgl": [
           {
            "colorbar": {
             "outlinewidth": 0,
             "ticks": ""
            },
            "colorscale": [
             [
              0,
              "#0d0887"
             ],
             [
              0.1111111111111111,
              "#46039f"
             ],
             [
              0.2222222222222222,
              "#7201a8"
             ],
             [
              0.3333333333333333,
              "#9c179e"
             ],
             [
              0.4444444444444444,
              "#bd3786"
             ],
             [
              0.5555555555555556,
              "#d8576b"
             ],
             [
              0.6666666666666666,
              "#ed7953"
             ],
             [
              0.7777777777777778,
              "#fb9f3a"
             ],
             [
              0.8888888888888888,
              "#fdca26"
             ],
             [
              1,
              "#f0f921"
             ]
            ],
            "type": "heatmapgl"
           }
          ],
          "histogram": [
           {
            "marker": {
             "pattern": {
              "fillmode": "overlay",
              "size": 10,
              "solidity": 0.2
             }
            },
            "type": "histogram"
           }
          ],
          "histogram2d": [
           {
            "colorbar": {
             "outlinewidth": 0,
             "ticks": ""
            },
            "colorscale": [
             [
              0,
              "#0d0887"
             ],
             [
              0.1111111111111111,
              "#46039f"
             ],
             [
              0.2222222222222222,
              "#7201a8"
             ],
             [
              0.3333333333333333,
              "#9c179e"
             ],
             [
              0.4444444444444444,
              "#bd3786"
             ],
             [
              0.5555555555555556,
              "#d8576b"
             ],
             [
              0.6666666666666666,
              "#ed7953"
             ],
             [
              0.7777777777777778,
              "#fb9f3a"
             ],
             [
              0.8888888888888888,
              "#fdca26"
             ],
             [
              1,
              "#f0f921"
             ]
            ],
            "type": "histogram2d"
           }
          ],
          "histogram2dcontour": [
           {
            "colorbar": {
             "outlinewidth": 0,
             "ticks": ""
            },
            "colorscale": [
             [
              0,
              "#0d0887"
             ],
             [
              0.1111111111111111,
              "#46039f"
             ],
             [
              0.2222222222222222,
              "#7201a8"
             ],
             [
              0.3333333333333333,
              "#9c179e"
             ],
             [
              0.4444444444444444,
              "#bd3786"
             ],
             [
              0.5555555555555556,
              "#d8576b"
             ],
             [
              0.6666666666666666,
              "#ed7953"
             ],
             [
              0.7777777777777778,
              "#fb9f3a"
             ],
             [
              0.8888888888888888,
              "#fdca26"
             ],
             [
              1,
              "#f0f921"
             ]
            ],
            "type": "histogram2dcontour"
           }
          ],
          "mesh3d": [
           {
            "colorbar": {
             "outlinewidth": 0,
             "ticks": ""
            },
            "type": "mesh3d"
           }
          ],
          "parcoords": [
           {
            "line": {
             "colorbar": {
              "outlinewidth": 0,
              "ticks": ""
             }
            },
            "type": "parcoords"
           }
          ],
          "pie": [
           {
            "automargin": true,
            "type": "pie"
           }
          ],
          "scatter": [
           {
            "fillpattern": {
             "fillmode": "overlay",
             "size": 10,
             "solidity": 0.2
            },
            "type": "scatter"
           }
          ],
          "scatter3d": [
           {
            "line": {
             "colorbar": {
              "outlinewidth": 0,
              "ticks": ""
             }
            },
            "marker": {
             "colorbar": {
              "outlinewidth": 0,
              "ticks": ""
             }
            },
            "type": "scatter3d"
           }
          ],
          "scattercarpet": [
           {
            "marker": {
             "colorbar": {
              "outlinewidth": 0,
              "ticks": ""
             }
            },
            "type": "scattercarpet"
           }
          ],
          "scattergeo": [
           {
            "marker": {
             "colorbar": {
              "outlinewidth": 0,
              "ticks": ""
             }
            },
            "type": "scattergeo"
           }
          ],
          "scattergl": [
           {
            "marker": {
             "colorbar": {
              "outlinewidth": 0,
              "ticks": ""
             }
            },
            "type": "scattergl"
           }
          ],
          "scattermapbox": [
           {
            "marker": {
             "colorbar": {
              "outlinewidth": 0,
              "ticks": ""
             }
            },
            "type": "scattermapbox"
           }
          ],
          "scatterpolar": [
           {
            "marker": {
             "colorbar": {
              "outlinewidth": 0,
              "ticks": ""
             }
            },
            "type": "scatterpolar"
           }
          ],
          "scatterpolargl": [
           {
            "marker": {
             "colorbar": {
              "outlinewidth": 0,
              "ticks": ""
             }
            },
            "type": "scatterpolargl"
           }
          ],
          "scatterternary": [
           {
            "marker": {
             "colorbar": {
              "outlinewidth": 0,
              "ticks": ""
             }
            },
            "type": "scatterternary"
           }
          ],
          "surface": [
           {
            "colorbar": {
             "outlinewidth": 0,
             "ticks": ""
            },
            "colorscale": [
             [
              0,
              "#0d0887"
             ],
             [
              0.1111111111111111,
              "#46039f"
             ],
             [
              0.2222222222222222,
              "#7201a8"
             ],
             [
              0.3333333333333333,
              "#9c179e"
             ],
             [
              0.4444444444444444,
              "#bd3786"
             ],
             [
              0.5555555555555556,
              "#d8576b"
             ],
             [
              0.6666666666666666,
              "#ed7953"
             ],
             [
              0.7777777777777778,
              "#fb9f3a"
             ],
             [
              0.8888888888888888,
              "#fdca26"
             ],
             [
              1,
              "#f0f921"
             ]
            ],
            "type": "surface"
           }
          ],
          "table": [
           {
            "cells": {
             "fill": {
              "color": "#EBF0F8"
             },
             "line": {
              "color": "white"
             }
            },
            "header": {
             "fill": {
              "color": "#C8D4E3"
             },
             "line": {
              "color": "white"
             }
            },
            "type": "table"
           }
          ]
         },
         "layout": {
          "annotationdefaults": {
           "arrowcolor": "#2a3f5f",
           "arrowhead": 0,
           "arrowwidth": 1
          },
          "autotypenumbers": "strict",
          "coloraxis": {
           "colorbar": {
            "outlinewidth": 0,
            "ticks": ""
           }
          },
          "colorscale": {
           "diverging": [
            [
             0,
             "#8e0152"
            ],
            [
             0.1,
             "#c51b7d"
            ],
            [
             0.2,
             "#de77ae"
            ],
            [
             0.3,
             "#f1b6da"
            ],
            [
             0.4,
             "#fde0ef"
            ],
            [
             0.5,
             "#f7f7f7"
            ],
            [
             0.6,
             "#e6f5d0"
            ],
            [
             0.7,
             "#b8e186"
            ],
            [
             0.8,
             "#7fbc41"
            ],
            [
             0.9,
             "#4d9221"
            ],
            [
             1,
             "#276419"
            ]
           ],
           "sequential": [
            [
             0,
             "#0d0887"
            ],
            [
             0.1111111111111111,
             "#46039f"
            ],
            [
             0.2222222222222222,
             "#7201a8"
            ],
            [
             0.3333333333333333,
             "#9c179e"
            ],
            [
             0.4444444444444444,
             "#bd3786"
            ],
            [
             0.5555555555555556,
             "#d8576b"
            ],
            [
             0.6666666666666666,
             "#ed7953"
            ],
            [
             0.7777777777777778,
             "#fb9f3a"
            ],
            [
             0.8888888888888888,
             "#fdca26"
            ],
            [
             1,
             "#f0f921"
            ]
           ],
           "sequentialminus": [
            [
             0,
             "#0d0887"
            ],
            [
             0.1111111111111111,
             "#46039f"
            ],
            [
             0.2222222222222222,
             "#7201a8"
            ],
            [
             0.3333333333333333,
             "#9c179e"
            ],
            [
             0.4444444444444444,
             "#bd3786"
            ],
            [
             0.5555555555555556,
             "#d8576b"
            ],
            [
             0.6666666666666666,
             "#ed7953"
            ],
            [
             0.7777777777777778,
             "#fb9f3a"
            ],
            [
             0.8888888888888888,
             "#fdca26"
            ],
            [
             1,
             "#f0f921"
            ]
           ]
          },
          "colorway": [
           "#636efa",
           "#EF553B",
           "#00cc96",
           "#ab63fa",
           "#FFA15A",
           "#19d3f3",
           "#FF6692",
           "#B6E880",
           "#FF97FF",
           "#FECB52"
          ],
          "font": {
           "color": "#2a3f5f"
          },
          "geo": {
           "bgcolor": "white",
           "lakecolor": "white",
           "landcolor": "#E5ECF6",
           "showlakes": true,
           "showland": true,
           "subunitcolor": "white"
          },
          "hoverlabel": {
           "align": "left"
          },
          "hovermode": "closest",
          "mapbox": {
           "style": "light"
          },
          "paper_bgcolor": "white",
          "plot_bgcolor": "#E5ECF6",
          "polar": {
           "angularaxis": {
            "gridcolor": "white",
            "linecolor": "white",
            "ticks": ""
           },
           "bgcolor": "#E5ECF6",
           "radialaxis": {
            "gridcolor": "white",
            "linecolor": "white",
            "ticks": ""
           }
          },
          "scene": {
           "xaxis": {
            "backgroundcolor": "#E5ECF6",
            "gridcolor": "white",
            "gridwidth": 2,
            "linecolor": "white",
            "showbackground": true,
            "ticks": "",
            "zerolinecolor": "white"
           },
           "yaxis": {
            "backgroundcolor": "#E5ECF6",
            "gridcolor": "white",
            "gridwidth": 2,
            "linecolor": "white",
            "showbackground": true,
            "ticks": "",
            "zerolinecolor": "white"
           },
           "zaxis": {
            "backgroundcolor": "#E5ECF6",
            "gridcolor": "white",
            "gridwidth": 2,
            "linecolor": "white",
            "showbackground": true,
            "ticks": "",
            "zerolinecolor": "white"
           }
          },
          "shapedefaults": {
           "line": {
            "color": "#2a3f5f"
           }
          },
          "ternary": {
           "aaxis": {
            "gridcolor": "white",
            "linecolor": "white",
            "ticks": ""
           },
           "baxis": {
            "gridcolor": "white",
            "linecolor": "white",
            "ticks": ""
           },
           "bgcolor": "#E5ECF6",
           "caxis": {
            "gridcolor": "white",
            "linecolor": "white",
            "ticks": ""
           }
          },
          "title": {
           "x": 0.05
          },
          "xaxis": {
           "automargin": true,
           "gridcolor": "white",
           "linecolor": "white",
           "ticks": "",
           "title": {
            "standoff": 15
           },
           "zerolinecolor": "white",
           "zerolinewidth": 2
          },
          "yaxis": {
           "automargin": true,
           "gridcolor": "white",
           "linecolor": "white",
           "ticks": "",
           "title": {
            "standoff": 15
           },
           "zerolinecolor": "white",
           "zerolinewidth": 2
          }
         }
        },
        "title": {
         "text": "storage cost of nHubs (red=w/minStorageArea, blue=w/out)"
        },
        "xaxis": {
         "anchor": "y",
         "autorange": true,
         "domain": [
          0,
          1
         ],
         "range": [
          0.5,
          138.5
         ],
         "title": {
          "text": "x"
         },
         "type": "linear"
        },
        "yaxis": {
         "anchor": "x",
         "autorange": true,
         "domain": [
          0,
          1
         ],
         "range": [
          0,
          5446977.370371368
         ],
         "title": {
          "text": "value"
         },
         "type": "linear"
        }
       }
      },
      "image/png": "[encoded data removed]",
      "text/html": [
       "<div>                            <div id=\"c48af329-8c62-44e2-9225-27ee4a3189c6\" class=\"plotly-graph-div\" style=\"height:525px; width:100%;\"></div>            <script type=\"text/javascript\">                require([\"plotly\"], function(Plotly) {                    window.PLOTLYENV=window.PLOTLYENV || {};                                    if (document.getElementById(\"c48af329-8c62-44e2-9225-27ee4a3189c6\")) {                    Plotly.newPlot(                        \"c48af329-8c62-44e2-9225-27ee4a3189c6\",                        [{\"alignmentgroup\":\"True\",\"hovertemplate\":\"variable=wide_variable_0<br>x=%{x}<br>value=%{y}<extra></extra>\",\"legendgroup\":\"wide_variable_0\",\"marker\":{\"color\":\"#636efa\",\"pattern\":{\"shape\":\"\"}},\"name\":\"wide_variable_0\",\"offsetgroup\":\"wide_variable_0\",\"orientation\":\"v\",\"showlegend\":true,\"textposition\":\"auto\",\"x\":[1,2,3,4,5,6,7,8,9,10,11,12,13,14,15,16,17,18,19,20,21,22,23,24,25,26,27,28,29,30,31,32,33,34,35,36,37,38,39,40,41,42,43,44,45,46,47,48,49,50,51,52,53,54,55,56,57,58,59,60,61,62,63,64,65,66,67,68,69,70,71,72,73,74,75,76,77,78,79,80,81,82,83,84,85,86,87,88,89,90,91,92,93,94,95,96,97,98,99,100,101,102,103,104,105,106,107,108,109,110,111,112,113,114,115,116,117,118,119,120,121,122,123,124,125,126,127,128,129,130,131,132,133,134,135,136,137,138],\"xaxis\":\"x\",\"y\":[2906833.037319889,2931879.191890693,2883899.2617300428,3059368.2644720925,2977885.1795863532,2951936.5694079194,3003153.3061065325,2914768.6832129285,2615107.2009786195,2590536.8266366464,3044405.4849849413,3055275.913397511,3132602.066939885,2746445.469459043,2989713.615049667,2527249.2636615764,2543048.1565647684,3337754.059310145,2531910.961994209,2717689.8055103105,2851534.5076207807,2830070.692549181,3192529.5352178584,2862532.992065117,2491787.6985948104,3103829.448465927,2988412.129105986,2812450.5520261205,2658396.944203032,3231127.558045556,3048669.322078143,2652699.680928831,2867044.525182513,2848422.8323267773,2961558.6716734106,2785759.432366737,2678299.6156046046,2804824.0044403668,2905269.0586543977,2785120.6020968226,2794653.0138689494,2711333.6292450037,2858725.3995482503,2783631.9338779664,2843240.1441521333,2830372.7156577297,2586421.394939884,2681619.402307041,2658859.577623534,2792559.311698458,2791455.2102180915,2646827.451726864,2889267.6337749944,2688665.323864095,2640766.060558293,2777203.2748807548,3074800.1911856174,3068903.893898248,2848190.9621594124,2573255.2266675015,2885809.127710413,2911672.1723944736,3024915.0740427454,2673620.8149427483,2709857.974619774,2728539.7878428507,2689456.4427654943,2717501.3779659825,2735763.020985364,2756415.086359749,2747508.7058234606,2733252.7671198873,2852612.5415125377,2662290.5193760605,2733810.737355446,2683163.2467950443,2708196.591004067,2695432.111475182,2688638.8396031153,2633982.480586989,2817028.3663816787,2586441.2104908614,2668704.950929067,2828302.5094641144,2690496.234491429,2718732.5966602396,2896818.8471645415,2749758.3814445687,2672485.171929196,2686258.2681167475,2745629.6396073387,2698299.758208601,2558821.7877766173,2711587.2356272554,2735123.606218209,2567789.4151544212,2678035.839261542,2686808.037007185,2658454.856962656,2706026.9893135773,2683137.321717814,2640782.0875701597,2686987.142865138,2568647.059412963,2753869.959804919,2741195.6095838407,2665733.107975263,2658482.9090568107,2634255.7155137584,2806201.8941486245,2690450.0119360415,2585768.078272344,2710056.075093091,2646089.3817822197,2653996.1025973153,2778966.466143194,2709747.7753126547,2720399.6918002996,2655747.9111561654,2655803.232848053,2686323.994338949,2653017.2465393413,2767419.5439371853,2665352.0359453782,2650107.7971683075,2681381.3153882623,2685944.446114965,2698256.662809103,2643314.1307958663,2678605.3863213505,2660061.443184756,2689285.671227521,2646322.129751994,2659317.03165798,2681037.207061991,2645547.5333610596,2641328.1661904408,2645547.5333610596],\"yaxis\":\"y\",\"type\":\"bar\"},{\"alignmentgroup\":\"True\",\"hovertemplate\":\"variable=wide_variable_1<br>x=%{x}<br>value=%{y}<extra></extra>\",\"legendgroup\":\"wide_variable_1\",\"marker\":{\"color\":\"#EF553B\",\"pattern\":{\"shape\":\"\"}},\"name\":\"wide_variable_1\",\"offsetgroup\":\"wide_variable_1\",\"orientation\":\"v\",\"showlegend\":true,\"textposition\":\"auto\",\"x\":[1,2,3,4,5,6,7,8,9,10,11,12,13,14,15,16,17,18,19,20,21,22,23,24,25,26,27,28,29,30,31,32,33,34,35,36,37,38,39,40,41,42,43,44,45,46,47,48,49,50,51,52,53,54,55,56,57,58,59,60,61,62,63,64,65,66,67,68,69,70,71,72,73,74,75,76,77,78,79,80,81,82,83,84,85,86,87,88,89,90,91,92,93,94,95,96,97,98,99,100,101,102,103,104,105,106,107,108,109,110,111,112,113,114,115,116,117,118,119,120,121,122,123,124,125,126,127,128,129,130,131,132,133,134,135,136,137,138],\"xaxis\":\"x\",\"y\":[2906833.037319889,2931879.191890693,2883899.2617300428,3059368.2644720925,2977885.1795863532,2951936.5694079194,3018949.953584537,2914768.6832129285,2621389.0029516025,2625575.5887806504,3072924.4761340553,3079485.980624963,3173005.4663065546,2751176.2045406173,3011135.6974965553,2570035.802685778,2673584.3009961112,3436077.0879089693,2595302.4497085833,2810630.354142825,2920922.4721893943,2999228.159199641,3271827.3073379328,2993297.9788599345,2662118.1409785757,3264097.6338444287,3201121.6524036396,3074517.0100434157,2873898.179123252,3434868.9529112238,3343528.9474219773,2897730.7590225157,3124526.7849701457,3107328.843653734,3317200.488758938,3046492.425565847,2982804.334645125,3213408.12615223,3286889.3450409584,3232502.7671350557,3175765.6707010125,3147282.579002148,3270957.2518872265,3255115.5082256906,3361161.664850695,3259072.228438558,3115255.441429863,3255596.7922396525,3183654.0527502447,3414459.0295509426,3370160.764704175,3307610.3848766075,3465681.9168010196,3391372.506595919,3295885.411909639,3478678.863489796,3863376.4658418866,3750709.850417104,3605608.174509859,3405610.041751517,3693275.910251676,3765930.096163177,3847131.8313947427,3462560.802112769,3578866.7398394607,3581997.6727070976,3582363.691950292,3682620.703996843,3746284.3016604087,3652083.584638591,3755213.9273603936,3781098.1005596276,3857180.556622323,3714287.2019498535,3839305.844106361,3765275.2157322005,3825823.268432439,3848189.489257946,3866564.105853104,3882960.7902564215,4007601.8795201643,3791660.324786993,3929127.03409893,4095664.8332283446,3983497.2065710365,4070519.6056279778,4199599.899172889,4033498.018937397,4097898.3641448873,4081286.9505744446,4162186.303006096,4127454.1069483035,3982105.1198394,4147758.647499261,4321192.393114172,4101533.573647497,4222843.628816028,4284526.381806664,4215422.32476002,4316093.656927111,4462281.974512773,4350000.704045802,4427110.027178638,4253271.539884032,4452670.94700236,4522391.042606665,4457476.846237662,4472909.175822436,4533568.800915949,4710369.569197688,4541911.534755658,4577330.342344711,4647218.870315849,4595703.37172335,4594900.840611886,4774328.696907984,4726688.312414123,4776790.151827603,4655865.851289641,4724718.899226625,4783497.150962523,4811088.038494486,5018512.376686582,4846696.134209914,4861049.153824467,4973235.716852548,4948772.685893669,4946365.121899238,4960062.422040198,5054439.85468103,4980844.709348189,5072927.690947527,5050809.792917514,5062911.814681275,5150593.102500495,5124739.637067996,5144127.217262579,5174628.501852799],\"yaxis\":\"y\",\"type\":\"bar\"}],                        {\"template\":{\"data\":{\"histogram2dcontour\":[{\"type\":\"histogram2dcontour\",\"colorbar\":{\"outlinewidth\":0,\"ticks\":\"\"},\"colorscale\":[[0.0,\"#0d0887\"],[0.1111111111111111,\"#46039f\"],[0.2222222222222222,\"#7201a8\"],[0.3333333333333333,\"#9c179e\"],[0.4444444444444444,\"#bd3786\"],[0.5555555555555556,\"#d8576b\"],[0.6666666666666666,\"#ed7953\"],[0.7777777777777778,\"#fb9f3a\"],[0.8888888888888888,\"#fdca26\"],[1.0,\"#f0f921\"]]}],\"choropleth\":[{\"type\":\"choropleth\",\"colorbar\":{\"outlinewidth\":0,\"ticks\":\"\"}}],\"histogram2d\":[{\"type\":\"histogram2d\",\"colorbar\":{\"outlinewidth\":0,\"ticks\":\"\"},\"colorscale\":[[0.0,\"#0d0887\"],[0.1111111111111111,\"#46039f\"],[0.2222222222222222,\"#7201a8\"],[0.3333333333333333,\"#9c179e\"],[0.4444444444444444,\"#bd3786\"],[0.5555555555555556,\"#d8576b\"],[0.6666666666666666,\"#ed7953\"],[0.7777777777777778,\"#fb9f3a\"],[0.8888888888888888,\"#fdca26\"],[1.0,\"#f0f921\"]]}],\"heatmap\":[{\"type\":\"heatmap\",\"colorbar\":{\"outlinewidth\":0,\"ticks\":\"\"},\"colorscale\":[[0.0,\"#0d0887\"],[0.1111111111111111,\"#46039f\"],[0.2222222222222222,\"#7201a8\"],[0.3333333333333333,\"#9c179e\"],[0.4444444444444444,\"#bd3786\"],[0.5555555555555556,\"#d8576b\"],[0.6666666666666666,\"#ed7953\"],[0.7777777777777778,\"#fb9f3a\"],[0.8888888888888888,\"#fdca26\"],[1.0,\"#f0f921\"]]}],\"heatmapgl\":[{\"type\":\"heatmapgl\",\"colorbar\":{\"outlinewidth\":0,\"ticks\":\"\"},\"colorscale\":[[0.0,\"#0d0887\"],[0.1111111111111111,\"#46039f\"],[0.2222222222222222,\"#7201a8\"],[0.3333333333333333,\"#9c179e\"],[0.4444444444444444,\"#bd3786\"],[0.5555555555555556,\"#d8576b\"],[0.6666666666666666,\"#ed7953\"],[0.7777777777777778,\"#fb9f3a\"],[0.8888888888888888,\"#fdca26\"],[1.0,\"#f0f921\"]]}],\"contourcarpet\":[{\"type\":\"contourcarpet\",\"colorbar\":{\"outlinewidth\":0,\"ticks\":\"\"}}],\"contour\":[{\"type\":\"contour\",\"colorbar\":{\"outlinewidth\":0,\"ticks\":\"\"},\"colorscale\":[[0.0,\"#0d0887\"],[0.1111111111111111,\"#46039f\"],[0.2222222222222222,\"#7201a8\"],[0.3333333333333333,\"#9c179e\"],[0.4444444444444444,\"#bd3786\"],[0.5555555555555556,\"#d8576b\"],[0.6666666666666666,\"#ed7953\"],[0.7777777777777778,\"#fb9f3a\"],[0.8888888888888888,\"#fdca26\"],[1.0,\"#f0f921\"]]}],\"surface\":[{\"type\":\"surface\",\"colorbar\":{\"outlinewidth\":0,\"ticks\":\"\"},\"colorscale\":[[0.0,\"#0d0887\"],[0.1111111111111111,\"#46039f\"],[0.2222222222222222,\"#7201a8\"],[0.3333333333333333,\"#9c179e\"],[0.4444444444444444,\"#bd3786\"],[0.5555555555555556,\"#d8576b\"],[0.6666666666666666,\"#ed7953\"],[0.7777777777777778,\"#fb9f3a\"],[0.8888888888888888,\"#fdca26\"],[1.0,\"#f0f921\"]]}],\"mesh3d\":[{\"type\":\"mesh3d\",\"colorbar\":{\"outlinewidth\":0,\"ticks\":\"\"}}],\"scatter\":[{\"fillpattern\":{\"fillmode\":\"overlay\",\"size\":10,\"solidity\":0.2},\"type\":\"scatter\"}],\"parcoords\":[{\"type\":\"parcoords\",\"line\":{\"colorbar\":{\"outlinewidth\":0,\"ticks\":\"\"}}}],\"scatterpolargl\":[{\"type\":\"scatterpolargl\",\"marker\":{\"colorbar\":{\"outlinewidth\":0,\"ticks\":\"\"}}}],\"bar\":[{\"error_x\":{\"color\":\"#2a3f5f\"},\"error_y\":{\"color\":\"#2a3f5f\"},\"marker\":{\"line\":{\"color\":\"#E5ECF6\",\"width\":0.5},\"pattern\":{\"fillmode\":\"overlay\",\"size\":10,\"solidity\":0.2}},\"type\":\"bar\"}],\"scattergeo\":[{\"type\":\"scattergeo\",\"marker\":{\"colorbar\":{\"outlinewidth\":0,\"ticks\":\"\"}}}],\"scatterpolar\":[{\"type\":\"scatterpolar\",\"marker\":{\"colorbar\":{\"outlinewidth\":0,\"ticks\":\"\"}}}],\"histogram\":[{\"marker\":{\"pattern\":{\"fillmode\":\"overlay\",\"size\":10,\"solidity\":0.2}},\"type\":\"histogram\"}],\"scattergl\":[{\"type\":\"scattergl\",\"marker\":{\"colorbar\":{\"outlinewidth\":0,\"ticks\":\"\"}}}],\"scatter3d\":[{\"type\":\"scatter3d\",\"line\":{\"colorbar\":{\"outlinewidth\":0,\"ticks\":\"\"}},\"marker\":{\"colorbar\":{\"outlinewidth\":0,\"ticks\":\"\"}}}],\"scattermapbox\":[{\"type\":\"scattermapbox\",\"marker\":{\"colorbar\":{\"outlinewidth\":0,\"ticks\":\"\"}}}],\"scatterternary\":[{\"type\":\"scatterternary\",\"marker\":{\"colorbar\":{\"outlinewidth\":0,\"ticks\":\"\"}}}],\"scattercarpet\":[{\"type\":\"scattercarpet\",\"marker\":{\"colorbar\":{\"outlinewidth\":0,\"ticks\":\"\"}}}],\"carpet\":[{\"aaxis\":{\"endlinecolor\":\"#2a3f5f\",\"gridcolor\":\"white\",\"linecolor\":\"white\",\"minorgridcolor\":\"white\",\"startlinecolor\":\"#2a3f5f\"},\"baxis\":{\"endlinecolor\":\"#2a3f5f\",\"gridcolor\":\"white\",\"linecolor\":\"white\",\"minorgridcolor\":\"white\",\"startlinecolor\":\"#2a3f5f\"},\"type\":\"carpet\"}],\"table\":[{\"cells\":{\"fill\":{\"color\":\"#EBF0F8\"},\"line\":{\"color\":\"white\"}},\"header\":{\"fill\":{\"color\":\"#C8D4E3\"},\"line\":{\"color\":\"white\"}},\"type\":\"table\"}],\"barpolar\":[{\"marker\":{\"line\":{\"color\":\"#E5ECF6\",\"width\":0.5},\"pattern\":{\"fillmode\":\"overlay\",\"size\":10,\"solidity\":0.2}},\"type\":\"barpolar\"}],\"pie\":[{\"automargin\":true,\"type\":\"pie\"}]},\"layout\":{\"autotypenumbers\":\"strict\",\"colorway\":[\"#636efa\",\"#EF553B\",\"#00cc96\",\"#ab63fa\",\"#FFA15A\",\"#19d3f3\",\"#FF6692\",\"#B6E880\",\"#FF97FF\",\"#FECB52\"],\"font\":{\"color\":\"#2a3f5f\"},\"hovermode\":\"closest\",\"hoverlabel\":{\"align\":\"left\"},\"paper_bgcolor\":\"white\",\"plot_bgcolor\":\"#E5ECF6\",\"polar\":{\"bgcolor\":\"#E5ECF6\",\"angularaxis\":{\"gridcolor\":\"white\",\"linecolor\":\"white\",\"ticks\":\"\"},\"radialaxis\":{\"gridcolor\":\"white\",\"linecolor\":\"white\",\"ticks\":\"\"}},\"ternary\":{\"bgcolor\":\"#E5ECF6\",\"aaxis\":{\"gridcolor\":\"white\",\"linecolor\":\"white\",\"ticks\":\"\"},\"baxis\":{\"gridcolor\":\"white\",\"linecolor\":\"white\",\"ticks\":\"\"},\"caxis\":{\"gridcolor\":\"white\",\"linecolor\":\"white\",\"ticks\":\"\"}},\"coloraxis\":{\"colorbar\":{\"outlinewidth\":0,\"ticks\":\"\"}},\"colorscale\":{\"sequential\":[[0.0,\"#0d0887\"],[0.1111111111111111,\"#46039f\"],[0.2222222222222222,\"#7201a8\"],[0.3333333333333333,\"#9c179e\"],[0.4444444444444444,\"#bd3786\"],[0.5555555555555556,\"#d8576b\"],[0.6666666666666666,\"#ed7953\"],[0.7777777777777778,\"#fb9f3a\"],[0.8888888888888888,\"#fdca26\"],[1.0,\"#f0f921\"]],\"sequentialminus\":[[0.0,\"#0d0887\"],[0.1111111111111111,\"#46039f\"],[0.2222222222222222,\"#7201a8\"],[0.3333333333333333,\"#9c179e\"],[0.4444444444444444,\"#bd3786\"],[0.5555555555555556,\"#d8576b\"],[0.6666666666666666,\"#ed7953\"],[0.7777777777777778,\"#fb9f3a\"],[0.8888888888888888,\"#fdca26\"],[1.0,\"#f0f921\"]],\"diverging\":[[0,\"#8e0152\"],[0.1,\"#c51b7d\"],[0.2,\"#de77ae\"],[0.3,\"#f1b6da\"],[0.4,\"#fde0ef\"],[0.5,\"#f7f7f7\"],[0.6,\"#e6f5d0\"],[0.7,\"#b8e186\"],[0.8,\"#7fbc41\"],[0.9,\"#4d9221\"],[1,\"#276419\"]]},\"xaxis\":{\"gridcolor\":\"white\",\"linecolor\":\"white\",\"ticks\":\"\",\"title\":{\"standoff\":15},\"zerolinecolor\":\"white\",\"automargin\":true,\"zerolinewidth\":2},\"yaxis\":{\"gridcolor\":\"white\",\"linecolor\":\"white\",\"ticks\":\"\",\"title\":{\"standoff\":15},\"zerolinecolor\":\"white\",\"automargin\":true,\"zerolinewidth\":2},\"scene\":{\"xaxis\":{\"backgroundcolor\":\"#E5ECF6\",\"gridcolor\":\"white\",\"linecolor\":\"white\",\"showbackground\":true,\"ticks\":\"\",\"zerolinecolor\":\"white\",\"gridwidth\":2},\"yaxis\":{\"backgroundcolor\":\"#E5ECF6\",\"gridcolor\":\"white\",\"linecolor\":\"white\",\"showbackground\":true,\"ticks\":\"\",\"zerolinecolor\":\"white\",\"gridwidth\":2},\"zaxis\":{\"backgroundcolor\":\"#E5ECF6\",\"gridcolor\":\"white\",\"linecolor\":\"white\",\"showbackground\":true,\"ticks\":\"\",\"zerolinecolor\":\"white\",\"gridwidth\":2}},\"shapedefaults\":{\"line\":{\"color\":\"#2a3f5f\"}},\"annotationdefaults\":{\"arrowcolor\":\"#2a3f5f\",\"arrowhead\":0,\"arrowwidth\":1},\"geo\":{\"bgcolor\":\"white\",\"landcolor\":\"#E5ECF6\",\"subunitcolor\":\"white\",\"showland\":true,\"showlakes\":true,\"lakecolor\":\"white\"},\"title\":{\"x\":0.05},\"mapbox\":{\"style\":\"light\"}}},\"xaxis\":{\"anchor\":\"y\",\"domain\":[0.0,1.0],\"title\":{\"text\":\"x\"}},\"yaxis\":{\"anchor\":\"x\",\"domain\":[0.0,1.0],\"title\":{\"text\":\"value\"}},\"legend\":{\"title\":{\"text\":\"variable\"},\"tracegroupgap\":0},\"title\":{\"text\":\"storage cost of nHubs (red=w/minStorageArea, blue=w/out)\"},\"barmode\":\"group\"},                        {\"responsive\": true}                    ).then(function(){\n",
       "                            \n",
       "var gd = document.getElementById('c48af329-8c62-44e2-9225-27ee4a3189c6');\n",
       "var x = new MutationObserver(function (mutations, observer) {{\n",
       "        var display = window.getComputedStyle(gd).display;\n",
       "        if (!display || display === 'none') {{\n",
       "            console.log([gd, 'removed!']);\n",
       "            Plotly.purge(gd);\n",
       "            observer.disconnect();\n",
       "        }}\n",
       "}});\n",
       "\n",
       "// Listen for the removal of the full notebook cells\n",
       "var notebookContainer = gd.closest('#notebook-container');\n",
       "if (notebookContainer) {{\n",
       "    x.observe(notebookContainer, {childList: true});\n",
       "}}\n",
       "\n",
       "// Listen for the clearing of the current output cell\n",
       "var outputEl = gd.closest('.output');\n",
       "if (outputEl) {{\n",
       "    x.observe(outputEl, {childList: true});\n",
       "}}\n",
       "\n",
       "                        })                };                });            </script>        </div>"
      ]
     },
     "metadata": {},
     "output_type": "display_data"
    }
   ],
   "source": [
    "px.bar(x=storageCostDict.keys(), y=[storageCosts[:, 0], storageCosts[:, 1]], barmode='group', title='storage cost of nHubs (red=w/minStorageArea, blue=w/out)')"
   ]
  },
  {
   "cell_type": "code",
   "execution_count": 5,
   "id": "8a6fe9c7-20e1-4738-8bf4-370aec81aa94",
   "metadata": {},
   "outputs": [],
   "source": [
    "def calcTotStorageCost_original(hubs, matGridAss, candiHubs): \n",
    "    \n",
    "    def calcm2storage(row): \n",
    "        hubName = row.hubName \n",
    "        # print('\\nhubName: {}'.format(hubName))\n",
    "\n",
    "        # calculate material stored in hub in kg\n",
    "        clients = matGridAss[matGridAss.hubName == hubName]\n",
    "        kgSupply = clients.kgSupply.sum()\n",
    "        kgDemand = clients.kgDemand.sum()\n",
    "        kgStored = kgSupply if kgDemand > kgSupply else kgDemand \n",
    "\n",
    "        # calculate kgStored assuming throughput \n",
    "        storageMonths = 1 # previously 6 months\n",
    "        studyPeriodMonths = 5 * 12 # 5 years \n",
    "        percStorageMonths = storageMonths / studyPeriodMonths * 100 \n",
    "        kgStored = kgStored * percStorageMonths / 100\n",
    "\n",
    "        # calculate storage area required\n",
    "        avTimberDensity = 510 # see CO2 opslag rekening tool\n",
    "        avStorageHeight = 3.5 # meters \n",
    "        kgStoredPerM2 = avTimberDensity * 0.8 * avStorageHeight\n",
    "        m2storage = kgStored / kgStoredPerM2\n",
    "\n",
    "        # calculate storate area required + logistics space \n",
    "        percAreaLogistics = 30\n",
    "        percAreaStorage = 100 - percAreaLogistics\n",
    "        m2storage = m2storage / percAreaStorage * 100\n",
    "        mStorageWidth = math.sqrt(m2storage)\n",
    "        \n",
    "        # min storage area - was not in original\n",
    "        # minStorageArea = 50\n",
    "        # if m2storage < minStorageArea: \n",
    "        #     m2storage = minStorageArea\n",
    "        \n",
    "        return m2storage\n",
    "    \n",
    "    def calcStoragePrice(row): \n",
    "        # calculate land and building price\n",
    "        landPrice = row.pPerSqm\n",
    "        buildingPrice = 250 # euros per sqm \n",
    "        totalPrice = landPrice + buildingPrice # euros per sqm \n",
    "        \n",
    "        return totalPrice\n",
    "\n",
    "    # calculate storage cost for one hub\n",
    "    def calcStorageCost(row): \n",
    "\n",
    "        # calculate final storage cost \n",
    "        storageCost = totalPrice * m2storage\n",
    "        if m2storage == 0: \n",
    "            storageCost = totalPrice * 100\n",
    "\n",
    "        return storageCost\n",
    "    \n",
    "    # sum storage cost for all hubs\n",
    "    hubs['m2'] = hubs.apply(lambda row: calcm2storage(row), axis=1)\n",
    "    hubs['storagePrice'] = hubs.apply(lambda row: calcStoragePrice(row), axis=1)\n",
    "    hubs['storageCost'] = hubs.m2 * hubs.storagePrice\n",
    "    totStorageCost = hubs.storageCost.sum()\n",
    "    \n",
    "    return hubs, totStorageCost"
   ]
  },
  {
   "cell_type": "code",
   "execution_count": null,
   "id": "f484df52-0cee-4220-b85e-700521e42f53",
   "metadata": {},
   "outputs": [],
   "source": []
  }
 ],
 "metadata": {
  "kernelspec": {
   "display_name": "Python 3 (ipykernel)",
   "language": "python",
   "name": "python3"
  },
  "language_info": {
   "codemirror_mode": {
    "name": "ipython",
    "version": 3
   },
   "file_extension": ".py",
   "mimetype": "text/x-python",
   "name": "python",
   "nbconvert_exporter": "python",
   "pygments_lexer": "ipython3",
   "version": "3.11.0"
  }
 },
 "nbformat": 4,
 "nbformat_minor": 5
}
